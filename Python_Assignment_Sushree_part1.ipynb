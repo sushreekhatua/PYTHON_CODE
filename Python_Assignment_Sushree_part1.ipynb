{
 "cells": [
  {
   "cell_type": "markdown",
   "metadata": {},
   "source": [
    "### 1.Calculate Area of a Circle"
   ]
  },
  {
   "cell_type": "code",
   "execution_count": 51,
   "metadata": {},
   "outputs": [
    {
     "name": "stdout",
     "output_type": "stream",
     "text": [
      "Enter the radius of circle in c.m : 20\n",
      "Area of circle is in cm^2 : 1256.00\n"
     ]
    }
   ],
   "source": [
    "#Calculate Area of a Circle\n",
    "PI=3.14\n",
    "radius=float(input(\"Enter the radius of circle in c.m : \"))\n",
    "Area_of_circle=PI*radius*radius\n",
    "print(\"Area of circle is in cm^2 : %.2f\" %Area_of_circle)"
   ]
  },
  {
   "cell_type": "markdown",
   "metadata": {},
   "source": [
    "### 2.Say Hello to user, Expected, ‘Hello name’"
   ]
  },
  {
   "cell_type": "code",
   "execution_count": 2,
   "metadata": {},
   "outputs": [
    {
     "name": "stdout",
     "output_type": "stream",
     "text": [
      "Enter your name : sadhana\n",
      " 'Hello sadhana'\n"
     ]
    }
   ],
   "source": [
    "#Say hello to user\n",
    "name=str(input(\"Enter your name : \"))\n",
    "print(f\" 'Hello {name}'\")"
   ]
  },
  {
   "cell_type": "markdown",
   "metadata": {},
   "source": [
    "### 3.Calculate Volume of Sphere"
   ]
  },
  {
   "cell_type": "code",
   "execution_count": 3,
   "metadata": {},
   "outputs": [
    {
     "name": "stdout",
     "output_type": "stream",
     "text": [
      "Enter the radius of sphere in c.m : 43\n",
      "Volume of Sphere is in cm^3 : 998607.92\n"
     ]
    }
   ],
   "source": [
    "#Calculate Volume Of Sphere\n",
    "Pi=3.14\n",
    "radius=float(input(\"Enter the radius of sphere in c.m : \"))\n",
    "Volume_of_sphere=4*PI*radius**3\n",
    "print(f\"Volume of Sphere is in cm^3 : {Volume_of_sphere}\")"
   ]
  },
  {
   "cell_type": "markdown",
   "metadata": {},
   "source": [
    "### 4.Copy String in n times"
   ]
  },
  {
   "cell_type": "code",
   "execution_count": 4,
   "metadata": {},
   "outputs": [
    {
     "name": "stdout",
     "output_type": "stream",
     "text": [
      "Enter a string : sadhana\n",
      "Enter the number : 12\n",
      "sadhana\n",
      "sadhana\n",
      "sadhana\n",
      "sadhana\n",
      "sadhana\n",
      "sadhana\n",
      "sadhana\n",
      "sadhana\n",
      "sadhana\n",
      "sadhana\n",
      "sadhana\n",
      "sadhana\n"
     ]
    }
   ],
   "source": [
    "#To copy the string in n times\n",
    "Copy_string=str(input(\"Enter a string : \"))\n",
    "n=int(input(\"Enter the number : \"))\n",
    "for i in range(n):\n",
    "    print(Copy_string)"
   ]
  },
  {
   "cell_type": "markdown",
   "metadata": {},
   "source": [
    "### 5.Calculate Area of a Triangle"
   ]
  },
  {
   "cell_type": "code",
   "execution_count": 5,
   "metadata": {},
   "outputs": [
    {
     "name": "stdout",
     "output_type": "stream",
     "text": [
      "Enter first side of triangle: 12\n",
      "Enter second side of triangle: 13\n",
      "Enter third side of triangle: 14\n",
      "Area of triangle is 72.308\n"
     ]
    }
   ],
   "source": [
    "# Calculate area of a Triangle\n",
    "a=float(input(\"Enter first side of triangle: \"))\n",
    "b=float(input(\"Enter second side of triangle: \"))\n",
    "c=float(input(\"Enter third side of triangle: \"))\n",
    "    #semiperimeter=(a+b+c)/2\n",
    "s=(a+b+c)/2\n",
    "area=(s*(s-a)*(s-b)*(s-c))**0.5\n",
    "print(\"Area of triangle is %0.3f\" %area)\n"
   ]
  },
  {
   "cell_type": "markdown",
   "metadata": {},
   "source": [
    "### 6. Calculate Interest"
   ]
  },
  {
   "cell_type": "code",
   "execution_count": 4,
   "metadata": {},
   "outputs": [
    {
     "name": "stdout",
     "output_type": "stream",
     "text": [
      "Enter the principle amount : 210\n",
      "Enter the number of years : 2\n",
      "Enter the rate of interest : 15\n",
      "Interest is :63.0\n"
     ]
    }
   ],
   "source": [
    "#Calculation of simple interest\n",
    "P=float(input(\"Enter the principle amount : \"))\n",
    "t=float(input(\"Enter the number of years : \"))\n",
    "r=float(input(\"Enter the rate of interest : \"))\n",
    "Interest=(P*t*r)/100\n",
    "print(f\"Interest is :{Interest}\")"
   ]
  },
  {
   "cell_type": "markdown",
   "metadata": {},
   "source": [
    "### 7.calculate Euclidean Distance"
   ]
  },
  {
   "cell_type": "code",
   "execution_count": 6,
   "metadata": {},
   "outputs": [
    {
     "name": "stdout",
     "output_type": "stream",
     "text": [
      "21\n",
      "[21.0]\n",
      "24\n",
      "[21.0, 24.0]\n",
      "56\n",
      "[56.0]\n",
      "45\n",
      "[56.0, 45.0]\n",
      "40.8166632639171\n"
     ]
    }
   ],
   "source": [
    "# Euclidean distance for two points as P(p1,p2) and Q(q1,q2)\n",
    "# Input for points\n",
    "lis1=[]\n",
    "lis2=[]\n",
    "for i in range(2):\n",
    "    n_=float(input())\n",
    "    lis1.append(n_)\n",
    "    print(lis1)\n",
    "for i in range(2):\n",
    "    n1_=float(input())\n",
    "    lis2.append(n1_)\n",
    "    print(lis2)\n",
    "distance = float(((lis2[0]-lis1[0])**2+(lis2[1]-lis1[1])**2)**0.5)\n",
    "print(distance)"
   ]
  },
  {
   "cell_type": "markdown",
   "metadata": {},
   "source": [
    "### 8.Feet to centimeter Converter"
   ]
  },
  {
   "cell_type": "code",
   "execution_count": 7,
   "metadata": {},
   "outputs": [
    {
     "name": "stdout",
     "output_type": "stream",
     "text": [
      "Enter the feet value : 30\n",
      "centimeter value is 914.4\n"
     ]
    }
   ],
   "source": [
    "#convertion of feet to centimeter\n",
    "a=float(input(\"Enter the feet value : \"))\n",
    "b=float(30.48*a)\n",
    "print(\"centimeter value is {}\".format(b))"
   ]
  },
  {
   "cell_type": "markdown",
   "metadata": {},
   "source": [
    "### 9.BMI Calculator"
   ]
  },
  {
   "cell_type": "code",
   "execution_count": 8,
   "metadata": {},
   "outputs": [
    {
     "name": "stdout",
     "output_type": "stream",
     "text": [
      "Enter the weight in kg : 50\n",
      "Enter the height in meter : 1.2\n",
      "Bmi is : 34.72222222222222\n"
     ]
    }
   ],
   "source": [
    "#Calculation of BMI using weight and height\n",
    "weight=float(input(\"Enter the weight in kg : \"))\n",
    "height=float(input(\"Enter the height in meter : \"))\n",
    "BMI=float(weight/(height**2))\n",
    "print(\"Bmi is : {}\".format(BMI))"
   ]
  },
  {
   "cell_type": "markdown",
   "metadata": {},
   "source": [
    "### 10.Binary to Decimal"
   ]
  },
  {
   "cell_type": "code",
   "execution_count": 50,
   "metadata": {},
   "outputs": [
    {
     "name": "stdout",
     "output_type": "stream",
     "text": [
      "Input a binary number: 1011\n",
      "The decimal value of the number is 11\n"
     ]
    }
   ],
   "source": [
    "#Convertion of binary to decimal\n",
    "b_num = list(input(\"Input a binary number: \"))\n",
    "value = 0\n",
    "for i in range(len(b_num)):\n",
    "    digit = b_num.pop()\n",
    "    if digit == '1':\n",
    "        value = value + 2**i\n",
    "print(\"The decimal value of the number is\", value)"
   ]
  },
  {
   "cell_type": "markdown",
   "metadata": {},
   "source": [
    "### 11.receive two integral numbers in string form and compute their sum and then print it in console."
   ]
  },
  {
   "cell_type": "code",
   "execution_count": 11,
   "metadata": {},
   "outputs": [
    {
     "name": "stdout",
     "output_type": "stream",
     "text": [
      "Enter first intrgral number : 20\n",
      "Enter second integral number : 45\n",
      "Sum is : 65\n"
     ]
    }
   ],
   "source": [
    "#function to calculate and return the sum \n",
    "#Parameters are a,b and a,b should be integral numbers in string format\n",
    "#return:sum of the numbers in integer format\n",
    "\n",
    "def cal_sum(a,b):\n",
    "    s=int(a) + int(b)\n",
    "    return s\n",
    "\n",
    "#Main code\n",
    "#take two integral numbers as strings\n",
    "num1=str(input(\"Enter first intrgral number : \"))\n",
    "num2=str(input(\"Enter second integral number : \"))\n",
    "\n",
    "#calculate sum\n",
    "sum=cal_sum(num1,num2)\n",
    "\n",
    "#print sum in console\n",
    "print(f\"Sum is : {sum}\")"
   ]
  },
  {
   "cell_type": "markdown",
   "metadata": {},
   "source": [
    "### 12.bitwise operators for any two variable all the bitwise operator that are there"
   ]
  },
  {
   "cell_type": "code",
   "execution_count": 2,
   "metadata": {},
   "outputs": [
    {
     "name": "stdout",
     "output_type": "stream",
     "text": [
      "Enter the first variable name : 12\n",
      "Enter the second variable name : -2\n",
      "a & b = 12\n",
      "a | b = -2\n",
      "~a = -13\n",
      "a ^ b = -14\n"
     ]
    }
   ],
   "source": [
    "# Bitwise operators of any two variables\n",
    "# Input two variables\n",
    "a = int(input(\"Enter the first variable name : \"))\n",
    "b = int(input(\"Enter the second variable name : \"))\n",
    "\n",
    "# print bitwise AND operation\n",
    "print(\"a & b =\",a & b)\n",
    "\n",
    "# print bitwise OR operation\n",
    "print(\"a | b =\",a | b)\n",
    "\n",
    "# print bitwise NOT operation\n",
    "print(\"~a =\", ~a)\n",
    "\n",
    "#print bitwise XOR operation\n",
    "print(\"a ^ b =\",a ^ b)"
   ]
  },
  {
   "cell_type": "markdown",
   "metadata": {},
   "source": [
    "### 13.shift operators"
   ]
  },
  {
   "cell_type": "code",
   "execution_count": 3,
   "metadata": {},
   "outputs": [
    {
     "name": "stdout",
     "output_type": "stream",
     "text": [
      "Enter the first variable name : 23\n",
      "Enter the second variable name : 56\n",
      "bin of a 0b10111\n",
      "bin of b 0b111000\n",
      "a >> 5 = 0b0\n",
      "a << 5 = 0b1011100000\n",
      "b >> 5 = 0b1\n",
      "b << 5 = 0b11100000000\n"
     ]
    }
   ],
   "source": [
    "# Input two variables\n",
    "a = int(input(\"Enter the first variable name : \"))\n",
    "b = int(input(\"Enter the second variable name : \"))\n",
    "#print bitwise shift operation\n",
    "print(\"bin of a\",bin(a))\n",
    "print(\"bin of b\",bin(b))\n",
    "print(\"a >> 5 =\",bin(a>>5))\n",
    "print(\"a << 5 =\",bin(a<<5))\n",
    "print(\"b >> 5 =\",bin(b>>5))\n",
    "print(\"b << 5 =\",bin(b<<5))"
   ]
  },
  {
   "cell_type": "markdown",
   "metadata": {},
   "source": [
    "### 14.str1=\" this is a sample daTaa to test for the task\" Check if ‘is’ present in str1"
   ]
  },
  {
   "cell_type": "code",
   "execution_count": 12,
   "metadata": {},
   "outputs": [
    {
     "data": {
      "text/plain": [
       "True"
      ]
     },
     "execution_count": 12,
     "metadata": {},
     "output_type": "execute_result"
    }
   ],
   "source": [
    "#to check a string\n",
    "def to_check(str2):\n",
    "        return \"is\" in str2\n",
    "str1=\"this is a sample daTaa to test for the task\"\n",
    "to_check(str1)"
   ]
  },
  {
   "cell_type": "markdown",
   "metadata": {},
   "source": [
    "### 15.Check if ‘was’ not present in str1"
   ]
  },
  {
   "cell_type": "code",
   "execution_count": 13,
   "metadata": {},
   "outputs": [
    {
     "data": {
      "text/plain": [
       "True"
      ]
     },
     "execution_count": 13,
     "metadata": {},
     "output_type": "execute_result"
    }
   ],
   "source": [
    "#to check a string\n",
    "def to_check(str2):\n",
    "        return \"was\" not in str2\n",
    "str1=\"this is a sample daTaa to test for the task\"\n",
    "to_check(str1)"
   ]
  },
  {
   "cell_type": "markdown",
   "metadata": {},
   "source": [
    "### 16.Print str1 in uppercase"
   ]
  },
  {
   "cell_type": "code",
   "execution_count": 4,
   "metadata": {},
   "outputs": [
    {
     "data": {
      "text/plain": [
       "'THIS IS A SAMPLE DATAA TO TEST FOR THE TASK'"
      ]
     },
     "execution_count": 4,
     "metadata": {},
     "output_type": "execute_result"
    }
   ],
   "source": [
    "#print str1 in uppercase letter\n",
    "def to_check_uppercase(str2):\n",
    "    return(str2.upper())\n",
    "str1=\"this is a sample daTaa to test for the task\"\n",
    "to_check_uppercase(str1)"
   ]
  },
  {
   "cell_type": "markdown",
   "metadata": {},
   "source": [
    "### 17.Print str1 as title"
   ]
  },
  {
   "cell_type": "code",
   "execution_count": 5,
   "metadata": {},
   "outputs": [
    {
     "data": {
      "text/plain": [
       "'This Is A Sample Dataa To Test For The Task'"
      ]
     },
     "execution_count": 5,
     "metadata": {},
     "output_type": "execute_result"
    }
   ],
   "source": [
    "#print str1 as title\n",
    "def to_check_title(str2):\n",
    "    return(str2.title())\n",
    "str1=\"this is a sample daTaa to test for the task\"\n",
    "to_check_title(str1)\n"
   ]
  },
  {
   "cell_type": "markdown",
   "metadata": {},
   "source": [
    "### 18.Get a new string from str1 ‘DatTaa’ as ‘Data’"
   ]
  },
  {
   "cell_type": "code",
   "execution_count": 6,
   "metadata": {},
   "outputs": [
    {
     "data": {
      "text/plain": [
       "'This Is A Sample Data To Test For The Task'"
      ]
     },
     "execution_count": 6,
     "metadata": {},
     "output_type": "execute_result"
    }
   ],
   "source": [
    "#Get a new string str2 from str1 with replacing 'DaTaa' as 'Data'\n",
    "def to_check_title(str2):\n",
    "    return(str2.title())\n",
    "\n",
    "str1=\"this is a sample daTaa to test for the task\"\n",
    "str3=str1.replace(\"daTaa\",\"data\")\n",
    "to_check_title(str3)\n"
   ]
  },
  {
   "cell_type": "markdown",
   "metadata": {},
   "source": [
    "### 19.Print a new string with extra \"a\" removed form previous task"
   ]
  },
  {
   "cell_type": "code",
   "execution_count": 16,
   "metadata": {},
   "outputs": [
    {
     "name": "stdout",
     "output_type": "stream",
     "text": [
      "6\n",
      "this is  smple dT to test for the task\n"
     ]
    }
   ],
   "source": [
    "#removing extra \"a\" from str1\n",
    "str1=\"this is a sample daTaa to test for the task\"\n",
    "n=str1.count(\"a\")\n",
    "print(n)\n",
    "str_1=str1.replace(\"a\",\"\",5)\n",
    "print(str_1)"
   ]
  },
  {
   "cell_type": "markdown",
   "metadata": {},
   "source": [
    "### 20.Display ‘sample’ word from ‘ this is another sample string ‘"
   ]
  },
  {
   "cell_type": "code",
   "execution_count": 7,
   "metadata": {},
   "outputs": [
    {
     "name": "stdout",
     "output_type": "stream",
     "text": [
      "this is another sample string\n"
     ]
    },
    {
     "data": {
      "text/plain": [
       "'sample'"
      ]
     },
     "execution_count": 7,
     "metadata": {},
     "output_type": "execute_result"
    }
   ],
   "source": [
    "#Displaying the word \"sample\" from \"this is another sample string\"\n",
    "def find_1(strng):\n",
    "    if \"sample\" in strng:\n",
    "        return \"sample\"\n",
    "string1=\"this is another sample string\"\n",
    "print(string1)\n",
    "find_1(string1)\n"
   ]
  },
  {
   "cell_type": "markdown",
   "metadata": {},
   "source": [
    "### 21.Display date, month and year from 21-oct-2020"
   ]
  },
  {
   "cell_type": "code",
   "execution_count": 17,
   "metadata": {},
   "outputs": [
    {
     "name": "stdout",
     "output_type": "stream",
     "text": [
      "Date : 21\n",
      "Month : oct\n",
      "Year : 2020\n"
     ]
    }
   ],
   "source": [
    "#from 21-oct-2020,we will extract date,month and year\n",
    "str_1=\"21-oct-2020\"\n",
    "da_m=str_1.split(\"-\")\n",
    "print(\"Date :\",da_m[0])\n",
    "print(\"Month :\",da_m[1])\n",
    "print(\"Year :\",da_m[2])\n"
   ]
  },
  {
   "cell_type": "markdown",
   "metadata": {},
   "source": [
    "### 22.arr = “10,20,30,40,50,60,70”, get “50,60”"
   ]
  },
  {
   "cell_type": "code",
   "execution_count": 18,
   "metadata": {},
   "outputs": [
    {
     "name": "stdout",
     "output_type": "stream",
     "text": [
      "['50', '60']\n"
     ]
    }
   ],
   "source": [
    "#get elements from a string\n",
    "arr=\"10,20,30,40,50,60,70\"\n",
    "lis1=arr.split(\",\")\n",
    "lis2=lis1[4:6:1]\n",
    "print(lis2)"
   ]
  },
  {
   "cell_type": "markdown",
   "metadata": {},
   "source": [
    "### 23.using negative index get \"50 ,60\""
   ]
  },
  {
   "cell_type": "code",
   "execution_count": 19,
   "metadata": {},
   "outputs": [
    {
     "name": "stdout",
     "output_type": "stream",
     "text": [
      "['50', '60']\n"
     ]
    }
   ],
   "source": [
    "#get elements from a string using negative index\n",
    "arr=\"10,20,30,40,50,60,70\"\n",
    "lis1=arr.split(\",\")\n",
    "lis2=lis1[-3:-1:1]\n",
    "print(lis2)"
   ]
  },
  {
   "cell_type": "markdown",
   "metadata": {},
   "source": [
    "### 24.From credit_str get ‘8888’ credit_str = \"xxxx----xxxx-8888------xxxx\""
   ]
  },
  {
   "cell_type": "code",
   "execution_count": 38,
   "metadata": {},
   "outputs": [
    {
     "data": {
      "text/plain": [
       "'8888'"
      ]
     },
     "execution_count": 38,
     "metadata": {},
     "output_type": "execute_result"
    }
   ],
   "source": [
    "credit_str = \"xxxx----xxxx-8888------xxxx\"\n",
    "new_list=credit_str.split(\"-\")\n",
    "new_list.index(\"8888\")\n",
    "new_list[5]\n"
   ]
  },
  {
   "cell_type": "markdown",
   "metadata": {},
   "source": [
    "### 25.From credit_str get ‘0’ credit_str = \"1234-5678-9878-0434\""
   ]
  },
  {
   "cell_type": "code",
   "execution_count": 21,
   "metadata": {},
   "outputs": [
    {
     "data": {
      "text/plain": [
       "'0'"
      ]
     },
     "execution_count": 21,
     "metadata": {},
     "output_type": "execute_result"
    }
   ],
   "source": [
    "credit_str = \"1234-5678-9878-0434\"\n",
    "newlist1=credit_str.split(\"-\")\n",
    "lis3=list(newlist1[3])\n",
    "lis3[0]"
   ]
  },
  {
   "cell_type": "markdown",
   "metadata": {},
   "source": [
    "### 26.convert a integer into a string and print it in console"
   ]
  },
  {
   "cell_type": "code",
   "execution_count": 8,
   "metadata": {},
   "outputs": [
    {
     "name": "stdout",
     "output_type": "stream",
     "text": [
      "Enter a integer value: 2345\n",
      "The type of given integer value is : <class 'str'>\n"
     ]
    }
   ],
   "source": [
    "integer=int(input(\"Enter a integer value: \"))\n",
    "string_convert=str(integer)\n",
    "print(\"The type of given integer value is :\",(type(string_convert)))\n"
   ]
  },
  {
   "cell_type": "markdown",
   "metadata": {},
   "source": [
    "### 27.take two strings as input and concatenate them and then print it"
   ]
  },
  {
   "cell_type": "code",
   "execution_count": 9,
   "metadata": {},
   "outputs": [
    {
     "name": "stdout",
     "output_type": "stream",
     "text": [
      "Enter a string: delhi\n",
      "Enter another string: india\n",
      "concatenated string is : delhiindia\n"
     ]
    }
   ],
   "source": [
    "string_1=input(\"Enter a string: \")\n",
    "string_2=input(\"Enter another string: \")\n",
    "string_3=string_1 + string_2\n",
    "print(\"concatenated string is :\",(string_3))"
   ]
  },
  {
   "cell_type": "markdown",
   "metadata": {},
   "source": [
    "### 28.convert the given string into list given_string = \" Apples is differnt from Apple Inc\""
   ]
  },
  {
   "cell_type": "code",
   "execution_count": 39,
   "metadata": {},
   "outputs": [
    {
     "name": "stdout",
     "output_type": "stream",
     "text": [
      " Apples is differnt from Apple Inc\n"
     ]
    },
    {
     "data": {
      "text/plain": [
       "['Apples', 'is', 'differnt', 'from', 'Apple', 'Inc']"
      ]
     },
     "execution_count": 39,
     "metadata": {},
     "output_type": "execute_result"
    }
   ],
   "source": [
    "#convertion of string to list\n",
    "given_string = \" Apples is differnt from Apple Inc\"\n",
    "print(given_string)\n",
    "given_string.split()"
   ]
  },
  {
   "cell_type": "markdown",
   "metadata": {},
   "source": [
    "### 29.print type of a and get the 1 element a = {(1,2):1,(2,3):2}"
   ]
  },
  {
   "cell_type": "code",
   "execution_count": 15,
   "metadata": {},
   "outputs": [
    {
     "name": "stdout",
     "output_type": "stream",
     "text": [
      "<class 'dict'>\n"
     ]
    },
    {
     "data": {
      "text/plain": [
       "1"
      ]
     },
     "execution_count": 15,
     "metadata": {},
     "output_type": "execute_result"
    }
   ],
   "source": [
    "a = {(1,2):1,(2,3):2}\n",
    "print(type(a))\n",
    "a.get((1,2))\n",
    "      "
   ]
  },
  {
   "cell_type": "markdown",
   "metadata": {},
   "source": [
    "### 30.write a program to get list as 4,3,2 from the list below a=1,2,3,4,5"
   ]
  },
  {
   "cell_type": "code",
   "execution_count": 13,
   "metadata": {},
   "outputs": [
    {
     "name": "stdout",
     "output_type": "stream",
     "text": [
      "[4, 3, 2]\n"
     ]
    }
   ],
   "source": [
    "a=[1,2,3,4,5]\n",
    "a.reverse()\n",
    "list1=[]\n",
    "for i in (a):\n",
    "    if i==4 or i==3 or i==2:\n",
    "        list1.append(i)\n",
    "print(list1)"
   ]
  },
  {
   "cell_type": "code",
   "execution_count": 53,
   "metadata": {},
   "outputs": [
    {
     "name": "stdout",
     "output_type": "stream",
     "text": [
      "[4, 3, 2]\n"
     ]
    }
   ],
   "source": [
    "#different approach Q.30\n",
    "a=[1,2,3,4,5]\n",
    "print(a[3:0:-1])"
   ]
  },
  {
   "cell_type": "markdown",
   "metadata": {},
   "source": [
    "### 31. write a program to get odd number only using a slicing a=1,2,3,4,5,6,7,8,9"
   ]
  },
  {
   "cell_type": "code",
   "execution_count": 11,
   "metadata": {},
   "outputs": [
    {
     "data": {
      "text/plain": [
       "[1, 3, 5, 7, 9]"
      ]
     },
     "execution_count": 11,
     "metadata": {},
     "output_type": "execute_result"
    }
   ],
   "source": [
    "a=[1,2,3,4,5,6,7,8,9]\n",
    "a1=a[0::2]\n",
    "a1"
   ]
  },
  {
   "cell_type": "markdown",
   "metadata": {},
   "source": [
    "### 32.create a tuple with (1,2) 5 times"
   ]
  },
  {
   "cell_type": "code",
   "execution_count": 10,
   "metadata": {},
   "outputs": [
    {
     "name": "stdout",
     "output_type": "stream",
     "text": [
      "((1, 2), (1, 2), (1, 2), (1, 2), (1, 2))\n"
     ]
    }
   ],
   "source": [
    "#create a tuple with(1,2)5times\n",
    "t1=(1,2)\n",
    "t2=(t1,)*5\n",
    "print(t2)\n"
   ]
  },
  {
   "cell_type": "markdown",
   "metadata": {},
   "source": [
    "### 33.from given list create separate lists of strings and numbers.use list comprehension gadgets = \"Mobile\", \"Laptop\", 100, \"Camera\", 310.28, \"Speakers\", 27.00, \"Television\", 1000, \"Laptop Case\", \"Camera Lens\""
   ]
  },
  {
   "cell_type": "code",
   "execution_count": 12,
   "metadata": {},
   "outputs": [
    {
     "name": "stdout",
     "output_type": "stream",
     "text": [
      "[100, 310.28, 27.0, 1000]\n",
      "['Mobile', 'Laptop', 'Camera', 'Speakers', 'Television', 'Laptop Case', 'Camera Lens']\n"
     ]
    }
   ],
   "source": [
    "strings=[]\n",
    "numbers=[]\n",
    "gadgets = [\"Mobile\", \"Laptop\", 100, \"Camera\", 310.28, \"Speakers\", 27.00, \"Television\", 1000, \"Laptop Case\", \"Camera Lens\"]\n",
    "numbers = [i for i in gadgets if (type(i)==int or type(i)==float)]\n",
    "strings = [i for i in gadgets if type(i)==str]\n",
    "print(numbers)\n",
    "print(strings)"
   ]
  },
  {
   "cell_type": "markdown",
   "metadata": {},
   "source": [
    "### 34.An array is given from the array find the sum of diagonal using list comprehension a_2d=[1, 2, 3, 4, 5, 6, 7, 8, 9]"
   ]
  },
  {
   "cell_type": "code",
   "execution_count": 54,
   "metadata": {},
   "outputs": [
    {
     "name": "stdout",
     "output_type": "stream",
     "text": [
      "[[1, 2, 3], [4, 5, 6], [7, 8, 9]]\n",
      "15\n"
     ]
    }
   ],
   "source": [
    "a_2d = [1,2,3,4,5,6,7,8,9]\n",
    "b=[]\n",
    "b1=[]\n",
    "b2=[]\n",
    "b3=[]\n",
    "b1= [i for i in a_2d if (i==1 or i==2 or i==3)]\n",
    "b2= [i for i in a_2d if (i==4 or i==5 or i==6)]\n",
    "b3= [i for i in a_2d if (i==7 or i==8 or i==9)]\n",
    "b.append(b1)\n",
    "b.append(b2)\n",
    "b.append(b3)\n",
    "print(b)\n",
    "#sum of diagonal elements\n",
    "sum=b[0][0]+b[1][1]+b[2][2]\n",
    "print(sum)\n",
    "\n"
   ]
  },
  {
   "cell_type": "code",
   "execution_count": 56,
   "metadata": {},
   "outputs": [
    {
     "name": "stdout",
     "output_type": "stream",
     "text": [
      "Requirement already satisfied: numpy in c:\\users\\sushr\\anaconda3\\lib\\site-packages (1.19.2)\n",
      "Note: you may need to restart the kernel to use updated packages.\n"
     ]
    }
   ],
   "source": [
    "pip install numpy"
   ]
  },
  {
   "cell_type": "code",
   "execution_count": 7,
   "metadata": {},
   "outputs": [
    {
     "name": "stdout",
     "output_type": "stream",
     "text": [
      "Numpy Matrix is : \n",
      "[[1 2 3]\n",
      " [4 5 6]\n",
      " [7 8 9]]\n",
      "\n",
      "Diagonal elements are: \n",
      "[1 5 9]\n",
      "\n",
      "Sum of Diagonal elements are: \n",
      "15\n"
     ]
    }
   ],
   "source": [
    "#different approach for Q.34\n",
    "import numpy as np\n",
    "matrix=[[1,2,3],\n",
    "       [4,5,6],\n",
    "       [7,8,9]]\n",
    "n_array=np.array(matrix)\n",
    "print(\"Numpy Matrix is : \")\n",
    "print(n_array)\n",
    "\n",
    "diag=np.diagonal(n_array)\n",
    "\n",
    "print(\"\\nDiagonal elements are: \")\n",
    "print(diag)\n",
    "\n",
    "print(\"\\nSum of Diagonal elements are: \")\n",
    "print(sum(diag))\n",
    "\n"
   ]
  },
  {
   "cell_type": "code",
   "execution_count": 9,
   "metadata": {},
   "outputs": [
    {
     "data": {
      "text/plain": [
       "(15, 15)"
      ]
     },
     "execution_count": 9,
     "metadata": {},
     "output_type": "execute_result"
    }
   ],
   "source": [
    "#another way to solve Q.34\n",
    "n=3\n",
    "matrix=[[1,2,3],\n",
    "       [4,5,6],\n",
    "       [7,8,9]]\n",
    "def sum_up_diagonals(li):\n",
    "    index=len(li)\n",
    "    first_dia=sum(li[i][i] for i in range(index))\n",
    "    second_dia=sum(li[i][index-i-1] for i in range(index))\n",
    "    return(first_dia,second_dia)\n",
    "sum_up_diagonals(matrix)"
   ]
  },
  {
   "cell_type": "markdown",
   "metadata": {},
   "source": [
    "### 35.convert number into tuple of words using comprehension num=8976543201\n",
    "\n"
   ]
  },
  {
   "cell_type": "code",
   "execution_count": 14,
   "metadata": {},
   "outputs": [
    {
     "name": "stdout",
     "output_type": "stream",
     "text": [
      "((8, 'Eight'), (9, 'Nine'), (7, 'Seven'), (6, 'Six'), (5, 'Five'), (4, 'Four'), (3, 'Three'), (2, 'Two'), (0, 'Zero'), (1, 'One'))\n"
     ]
    }
   ],
   "source": [
    "num1=[8,9,7,6,5,4,3,2,0,1]\n",
    "word1=[\"Eight\",\"Nine\",\"Seven\",\"Six\",\"Five\",\"Four\",\"Three\",\"Two\",\"Zero\",\"One\"]\n",
    "result=tuple(zip(num1,word1))\n",
    "print(result)\n"
   ]
  },
  {
   "cell_type": "markdown",
   "metadata": {},
   "source": [
    "### 36.print the numbers which are divisible by 2 but are not a multiple of 5 numbers = range(1, 10)"
   ]
  },
  {
   "cell_type": "code",
   "execution_count": 44,
   "metadata": {},
   "outputs": [
    {
     "name": "stdout",
     "output_type": "stream",
     "text": [
      "2\n",
      "4\n",
      "6\n",
      "8\n"
     ]
    }
   ],
   "source": [
    "for i in range(1,10):\n",
    "    if (i%2==0) and (i%5 !=0):\n",
    "        print(i)"
   ]
  },
  {
   "cell_type": "markdown",
   "metadata": {},
   "source": [
    "### 37.print the sum of tuple : use comprehension init_tuple = [(0, 1), (1, 2), (2, 3)]"
   ]
  },
  {
   "cell_type": "code",
   "execution_count": 27,
   "metadata": {},
   "outputs": [
    {
     "name": "stdout",
     "output_type": "stream",
     "text": [
      "9\n",
      "[3, 6]\n",
      "3 6\n"
     ]
    }
   ],
   "source": [
    "init_tuple = [(0, 1), (1, 2), (2, 3)]\n",
    "sum_tuple=sum(list(map(sum,list(init_tuple))))\n",
    "print(sum_tuple)\n",
    "\n",
    "sum_tuple2=[sum(i) for i in zip(*init_tuple)]\n",
    "print(sum_tuple2)\n",
    "l=[(0,1),(1,2),(2,3)]\n",
    "print(sum(e[0] for e in l),sum(e[1] for e in l))\n",
    "\n",
    "\n",
    "\n",
    "\n"
   ]
  },
  {
   "cell_type": "markdown",
   "metadata": {},
   "source": [
    "### 38.delete the last coumn from the given 4*4 matrix arr = [[1, 2, 3, 4], [4, 5, 6, 7], [8, 9, 10, 11], [12, 13, 14, 15]]"
   ]
  },
  {
   "cell_type": "code",
   "execution_count": 2,
   "metadata": {},
   "outputs": [
    {
     "name": "stdout",
     "output_type": "stream",
     "text": [
      "[[1, 2, 3], [4, 5, 6], [8, 9, 10], [12, 13, 14]]\n"
     ]
    }
   ],
   "source": [
    "arr=[[1,2,3,4],[4,5,6,7],[8,9,10,11],[12,13,14,15]]\n",
    "for i in range(len(arr)):\n",
    "    del arr[i][3]\n",
    "print(arr)\n"
   ]
  },
  {
   "cell_type": "markdown",
   "metadata": {},
   "source": [
    "### 39.get the list of value of dict in sorted way dict = {'c': 97, 'a': 96, 'b': 98}"
   ]
  },
  {
   "cell_type": "code",
   "execution_count": 1,
   "metadata": {},
   "outputs": [
    {
     "name": "stdout",
     "output_type": "stream",
     "text": [
      "[96, 97, 98]\n"
     ]
    }
   ],
   "source": [
    "dict1 ={\"c\":97,\"a\":96,\"b\":98}\n",
    "dict2=dict1.values()\n",
    "dict3=list(dict2)\n",
    "dict3.sort()\n",
    "print(dict3)"
   ]
  },
  {
   "cell_type": "markdown",
   "metadata": {},
   "source": [
    "### 40.Creating a Dictionary with Integer Keys and print it"
   ]
  },
  {
   "cell_type": "code",
   "execution_count": 16,
   "metadata": {},
   "outputs": [
    {
     "name": "stdout",
     "output_type": "stream",
     "text": [
      "{1: 'sushree', 2: 'sadhana', 3: 'khatua'}\n"
     ]
    }
   ],
   "source": [
    "d=dict([(1,\"sushree\"),(2,\"sadhana\"),(3,\"khatua\")])\n",
    "print(d)"
   ]
  },
  {
   "cell_type": "markdown",
   "metadata": {},
   "source": [
    "### 41.Creating a Dictionary with Mixed keys"
   ]
  },
  {
   "cell_type": "code",
   "execution_count": 17,
   "metadata": {},
   "outputs": [
    {
     "name": "stdout",
     "output_type": "stream",
     "text": [
      "{'name': {'manan', 'jolly', 'raj', 'sami'}, 'colour': ['black', 'white', 'yellow', 'brown'], 23.34: 67}\n"
     ]
    }
   ],
   "source": [
    "d1_mix={\"name\":{\"jolly\",\"manan\",\"sami\",\"raj\"},\n",
    "        \"colour\":[\"black\",\"white\",\"yellow\",\"brown\"],\n",
    "         23.34:67}\n",
    "print(d1_mix)"
   ]
  },
  {
   "cell_type": "markdown",
   "metadata": {},
   "source": [
    "### 42.Creating an empty Dictionary"
   ]
  },
  {
   "cell_type": "code",
   "execution_count": 18,
   "metadata": {},
   "outputs": [
    {
     "name": "stdout",
     "output_type": "stream",
     "text": [
      "{}\n"
     ]
    }
   ],
   "source": [
    "a={}\n",
    "print(a)"
   ]
  },
  {
   "cell_type": "markdown",
   "metadata": {},
   "source": [
    "### 43.Creating a Dictionary with dict() method"
   ]
  },
  {
   "cell_type": "code",
   "execution_count": 19,
   "metadata": {},
   "outputs": [
    {
     "name": "stdout",
     "output_type": "stream",
     "text": [
      "{'mumbai': 2000, 'delhi': 4000, 'rajastan': 5000, 'chennai': 7000}\n"
     ]
    }
   ],
   "source": [
    "dict_4=dict([(\"mumbai\",2000),(\"delhi\",4000),(\"rajastan\",5000),(\"chennai\",7000)])\n",
    "print(dict_4)"
   ]
  },
  {
   "cell_type": "markdown",
   "metadata": {},
   "source": [
    "### 44.Creating a Dictionary with each item as a Pair"
   ]
  },
  {
   "cell_type": "code",
   "execution_count": 20,
   "metadata": {},
   "outputs": [
    {
     "name": "stdout",
     "output_type": "stream",
     "text": [
      "{'cat': 200, 'dog': 400, 'rat': 500, 'monkey': 700}\n"
     ]
    }
   ],
   "source": [
    "dict_new=dict([(\"cat\",200),(\"dog\",400),(\"rat\",500),(\"monkey\",700)])\n",
    "print(dict_new)"
   ]
  },
  {
   "cell_type": "markdown",
   "metadata": {},
   "source": [
    "### 45.Creating a Nested Dictionary as shown in the below image {1: 'python', 2: 'For', 3: {'A': 'Welcome', 'B': 'To', 'C': 'Python', 'D': 'class'}}"
   ]
  },
  {
   "cell_type": "code",
   "execution_count": 21,
   "metadata": {},
   "outputs": [
    {
     "name": "stdout",
     "output_type": "stream",
     "text": [
      "{1: 'python', 2: 'For', 3: {'A': 'Welcome', 'B': 'To', 'C': 'Python', 'D': 'class'}}\n"
     ]
    }
   ],
   "source": [
    "dict_new11={1: 'python', 2: 'For', 3: {'A': 'Welcome', 'B': 'To', 'C': 'Python', 'D': 'class'}}\n",
    "print(dict_new11)"
   ]
  },
  {
   "cell_type": "markdown",
   "metadata": {},
   "source": [
    "### 46.Add a Nested Key value to nested dictionary Dictionary"
   ]
  },
  {
   "cell_type": "code",
   "execution_count": 22,
   "metadata": {},
   "outputs": [
    {
     "name": "stdout",
     "output_type": "stream",
     "text": [
      "{}\n",
      "{'animal': {'name': 'Monkey', 'colour': 'Brown'}}\n",
      "{'animal': {'name': 'Monkey', 'colour': 'Brown'}, 'bird': {'name': 'peacock', 'colour': 'Blue'}}\n"
     ]
    }
   ],
   "source": [
    "new_dict={}\n",
    "print(new_dict)\n",
    "new_dict[\"animal\"]={}\n",
    "\n",
    "#adding elements\n",
    "new_dict[\"animal\"][\"name\"]=\"Monkey\"\n",
    "new_dict[\"animal\"][\"colour\"]=\"Brown\"\n",
    "print(new_dict)\n",
    "\n",
    "#adding whole dictionary\n",
    "new_dict[\"bird\"]={\"name\":\"peacock\", \"colour\":\"Blue\"}\n",
    "print(new_dict)"
   ]
  },
  {
   "cell_type": "markdown",
   "metadata": {},
   "source": [
    "### 47.create a dictionary with id:num and value: square for range (0,6) using dict comprehension"
   ]
  },
  {
   "cell_type": "code",
   "execution_count": 23,
   "metadata": {},
   "outputs": [
    {
     "name": "stdout",
     "output_type": "stream",
     "text": [
      "{0: 0, 1: 1, 2: 4, 3: 9, 4: 16, 5: 25}\n"
     ]
    }
   ],
   "source": [
    "new_dic={i:j**2 for i,j in enumerate(range(0,6))}\n",
    "print(new_dic)"
   ]
  },
  {
   "cell_type": "markdown",
   "metadata": {},
   "source": [
    "### 48.create a dictionary using dict comprehension to get the odd square only"
   ]
  },
  {
   "cell_type": "code",
   "execution_count": 24,
   "metadata": {},
   "outputs": [
    {
     "name": "stdout",
     "output_type": "stream",
     "text": [
      "{1: 1, 3: 9, 5: 25, 7: 49, 9: 81, 11: 121, 13: 169, 15: 225, 17: 289, 19: 361}\n"
     ]
    }
   ],
   "source": [
    "new={i:j**2 for i,j in enumerate(range(20)) if i%2==1}\n",
    "print(new)"
   ]
  },
  {
   "cell_type": "markdown",
   "metadata": {},
   "source": [
    "### 49.from a given dict {1: 'a', 2: 'b', 3: 'c'} change the key into item and viceversa"
   ]
  },
  {
   "cell_type": "code",
   "execution_count": 25,
   "metadata": {},
   "outputs": [
    {
     "name": "stdout",
     "output_type": "stream",
     "text": [
      "{1: 'a', 2: 'b', 3: 'c'}\n",
      "{'a': [1], 'b': [2], 'c': [3]}\n"
     ]
    }
   ],
   "source": [
    "dict_1={1:\"a\",2:\"b\",3:\"c\"}\n",
    "\n",
    "print(dict_1)\n",
    "\n",
    "new_dict={}\n",
    "for key,value in dict_1.items():\n",
    "    if value in new_dict:\n",
    "        new_dict[value].append(key)\n",
    "    else:\n",
    "        new_dict[value]=[key]\n",
    "print(new_dict)\n"
   ]
  },
  {
   "cell_type": "code",
   "execution_count": 29,
   "metadata": {},
   "outputs": [
    {
     "name": "stdout",
     "output_type": "stream",
     "text": [
      "{1: 'a', 2: 'b', 3: 'c'}\n",
      "{'a': 1, 'b': 2, 'c': 3}\n"
     ]
    }
   ],
   "source": [
    "#another way for Q.49\n",
    "def invert_dict(dict1):\n",
    "    return({y:x for x,y in dict1.items()})\n",
    "dict_1={1:\"a\",2:\"b\",3:\"c\"}\n",
    "print(dict_1)\n",
    "print(invert_dict(dict_1))"
   ]
  },
  {
   "cell_type": "markdown",
   "metadata": {},
   "source": [
    "### 50.get a hello from the given dict d = {'k1':[{'nest_key':['this is deep','hello']}]} and d1 = {'k1':[1,2,{'k2':['this is tricky',{'tough':[1,2,'hello']}]}]}"
   ]
  },
  {
   "cell_type": "code",
   "execution_count": 26,
   "metadata": {},
   "outputs": [
    {
     "name": "stdout",
     "output_type": "stream",
     "text": [
      "hello\n"
     ]
    },
    {
     "data": {
      "text/plain": [
       "'hello'"
      ]
     },
     "execution_count": 26,
     "metadata": {},
     "output_type": "execute_result"
    }
   ],
   "source": [
    "d={'k1':[{'nest_key':['this is deep','hello']}]}\n",
    "d4=d[\"k1\"].pop()\n",
    "d5=d4[\"nest_key\"][1]\n",
    "print(d5)\n",
    "\n",
    "\n",
    "d1 = {'k1':[1,2,{'k2':['this is tricky',{'tough':[1,2,'hello']}]}]}\n",
    "d1[\"k1\"][2][\"k2\"][1][\"tough\"][2]\n",
    "\n",
    "\n",
    "\n"
   ]
  },
  {
   "cell_type": "markdown",
   "metadata": {},
   "source": [
    "### 51.Divisibility Check of user given 2 input of numbers"
   ]
  },
  {
   "cell_type": "code",
   "execution_count": 27,
   "metadata": {},
   "outputs": [
    {
     "name": "stdout",
     "output_type": "stream",
     "text": [
      "Enter first number : 32\n",
      "Enter second number : 45\n",
      "32 is not divisible by 3\n",
      "45 is not divisible by 4\n"
     ]
    }
   ],
   "source": [
    "num1=int(input(\"Enter first number : \"))\n",
    "num2=int(input(\"Enter second number : \"))\n",
    "#checking divisible by 3\n",
    "if num1 % 3==0:\n",
    "    print(f\"{num1} is divisible by 3\")\n",
    "else:\n",
    "    print(f\"{num1} is not divisible by 3\")\n",
    "\n",
    "#checking divisible by 4\n",
    "if num2 % 4==0:\n",
    "    print(f\"{num2} is divisible by 4\")\n",
    "else:\n",
    "    print(f\"{num2} is not divisible by 4\")"
   ]
  },
  {
   "cell_type": "markdown",
   "metadata": {},
   "source": [
    "### 52.Check if number is even or odd"
   ]
  },
  {
   "cell_type": "code",
   "execution_count": 28,
   "metadata": {},
   "outputs": [
    {
     "name": "stdout",
     "output_type": "stream",
     "text": [
      "Enter a number : 24\n",
      "24 is an even number\n"
     ]
    }
   ],
   "source": [
    "num=int(input(\"Enter a number : \"))\n",
    "if num % 2==0:\n",
    "    print(f\"{num} is an even number\")\n",
    "else:\n",
    "    print(f\"{num} is an odd number\")"
   ]
  },
  {
   "cell_type": "markdown",
   "metadata": {},
   "source": [
    "### 53.Check whether Entered character is Vowel or not"
   ]
  },
  {
   "cell_type": "code",
   "execution_count": 29,
   "metadata": {},
   "outputs": [
    {
     "name": "stdout",
     "output_type": "stream",
     "text": [
      "Enter a character value : w\n",
      "w is Consonant\n"
     ]
    }
   ],
   "source": [
    "char1=input(\"Enter a character value : \")\n",
    "if (len(char1)==1):\n",
    "    if (char1==\"a\" or char1==\"e\" or char1==\"i\" or char1==\"o\" or char1==\"u\" or char1==\"A\" or char1==\"E\" or char1==\"I\" or char1==\"O\" or char1==\"U\"):\n",
    "        print(f\"{char1} is Vowel\")\n",
    "    else:\n",
    "        print(f\"{char1} is Consonant\")\n",
    "else:\n",
    "    print(\"You entered wrong\")"
   ]
  },
  {
   "cell_type": "markdown",
   "metadata": {},
   "source": [
    "### 54.calculate Sum of n positive Integer example: Sum of n positive Integer till 2 is 3"
   ]
  },
  {
   "cell_type": "code",
   "execution_count": 31,
   "metadata": {},
   "outputs": [
    {
     "name": "stdout",
     "output_type": "stream",
     "text": [
      "Enter a number : 4\n",
      "10.0\n"
     ]
    }
   ],
   "source": [
    "n = int(input(\"Enter a number : \"))\n",
    "sum_integer=(n/2)*(1+n)\n",
    "print(sum_integer)"
   ]
  },
  {
   "cell_type": "markdown",
   "metadata": {},
   "source": [
    "### 55.calculate the Digit Sum of a number (eg: 123 print 1+2+3=6)"
   ]
  },
  {
   "cell_type": "code",
   "execution_count": 32,
   "metadata": {},
   "outputs": [
    {
     "name": "stdout",
     "output_type": "stream",
     "text": [
      "Enter a number : 3456\n"
     ]
    },
    {
     "data": {
      "text/plain": [
       "18"
      ]
     },
     "execution_count": 32,
     "metadata": {},
     "output_type": "execute_result"
    }
   ],
   "source": [
    "def sum_digits(n):\n",
    "    return 0 if n==0 else int(n % 10) + sum_digits(int(n / 10))\n",
    "num=int(input(\"Enter a number : \"))\n",
    "sum_digits(num)\n",
    "    "
   ]
  },
  {
   "cell_type": "markdown",
   "metadata": {},
   "source": [
    "### 56.Count Numbers, Alphabets, and Special Character from user input string\n",
    "\n"
   ]
  },
  {
   "cell_type": "code",
   "execution_count": 33,
   "metadata": {},
   "outputs": [
    {
     "name": "stdout",
     "output_type": "stream",
     "text": [
      "Enter a string : Stockholm@@@12345\n",
      "\n",
      "Total number of Numbers in this string : 5\n",
      "Total number of Alphabets in this string : 9\n",
      "Total number of Special Characters in this string : 3\n"
     ]
    }
   ],
   "source": [
    "#count Numbers,Alphabets and Special Character from user input string\n",
    "string = input(\"Enter a string : \")\n",
    "numbers = Alphabets = special = 0\n",
    "\n",
    "for i in range(len(string)):\n",
    "    if (string[i].isdigit()):\n",
    "        numbers+=1\n",
    "    elif (string[i].isalpha()):\n",
    "        Alphabets+=1\n",
    "    else :\n",
    "        special+=1\n",
    "print(\"\\nTotal number of Numbers in this string :\",numbers)\n",
    "print(\"Total number of Alphabets in this string :\",Alphabets)\n",
    "print(\"Total number of Special Characters in this string :\",special)"
   ]
  },
  {
   "cell_type": "markdown",
   "metadata": {},
   "source": [
    "### 57.constuct the given pattern\n",
    "\n",
    "\n"
   ]
  },
  {
   "cell_type": "code",
   "execution_count": 34,
   "metadata": {},
   "outputs": [
    {
     "name": "stdout",
     "output_type": "stream",
     "text": [
      "\n",
      "* \n",
      "* * \n",
      "* * * \n",
      "* * * * \n",
      "* * * * * \n",
      "* * * * \n",
      "* * * \n",
      "* * \n",
      "* \n"
     ]
    }
   ],
   "source": [
    "n=5\n",
    "for i in range(n):\n",
    "    for j in range(i):\n",
    "        print(\"* \",end=\"\")\n",
    "    print(\"\")\n",
    "    \n",
    "    \n",
    "for i in range(n,0,-1):\n",
    "    for j in range(i):\n",
    "        print(\"* \", end=\"\")\n",
    "    print(\"\")\n",
    "    "
   ]
  },
  {
   "cell_type": "markdown",
   "metadata": {},
   "source": [
    "### 58.Count number of characters in a string eg : {'h': 1, 'e': 1, 'l': 2, 'o': 1}"
   ]
  },
  {
   "cell_type": "code",
   "execution_count": 35,
   "metadata": {},
   "outputs": [
    {
     "name": "stdout",
     "output_type": "stream",
     "text": [
      "Enter a string value : sweden\n",
      "{'s': 1, 'w': 1, 'e': 2, 'd': 1, 'n': 1}\n"
     ]
    }
   ],
   "source": [
    "name=input(\"Enter a string value : \")\n",
    "dict1={}\n",
    "for n in (name):\n",
    "    dict1[n]=name.count(n)\n",
    "\n",
    "print(dict1)"
   ]
  },
  {
   "cell_type": "markdown",
   "metadata": {},
   "source": [
    "### 59.write a program to compute 5/0 using try except"
   ]
  },
  {
   "cell_type": "code",
   "execution_count": 36,
   "metadata": {},
   "outputs": [
    {
     "name": "stdout",
     "output_type": "stream",
     "text": [
      "Error division by zero\n"
     ]
    }
   ],
   "source": [
    "try:\n",
    "    x=5/0\n",
    "except:\n",
    "    print(\"Error division by zero\")"
   ]
  },
  {
   "cell_type": "markdown",
   "metadata": {},
   "source": [
    "### 60.Handle the exception thrown by the code below by using try and except blocks. li=[\"hello\",\"class\"] for i in li: print (i**2)"
   ]
  },
  {
   "cell_type": "code",
   "execution_count": 37,
   "metadata": {},
   "outputs": [
    {
     "name": "stdout",
     "output_type": "stream",
     "text": [
      "You entered wrong\n"
     ]
    }
   ],
   "source": [
    "try:\n",
    "    li=[\"hello\",\"class\"]\n",
    "    for i in li:\n",
    "        print (i**2)\n",
    "except:\n",
    "    print(\"You entered wrong\")\n",
    "\n"
   ]
  },
  {
   "cell_type": "markdown",
   "metadata": {},
   "source": [
    "### 61.Write a function that asks for an integer and prints the square of it. Use a while loop with a try,except, else block to account for incorrect inputs."
   ]
  },
  {
   "cell_type": "code",
   "execution_count": 19,
   "metadata": {},
   "outputs": [
    {
     "name": "stdout",
     "output_type": "stream",
     "text": [
      "Enter a value : null\n",
      "wrong entry\n",
      "Enter a value : 24\n",
      "Square of the number is : 576\n"
     ]
    }
   ],
   "source": [
    "def ask_1():\n",
    "    while True:\n",
    "        try:\n",
    "            num=int(input(\"Enter a value : \"))\n",
    "            \n",
    "        except:\n",
    "            print(\"wrong entry\")\n",
    "            continue\n",
    "        else:\n",
    "            print(\"Square of the number is :\",num**2)\n",
    "            break\n",
    "ask_1()"
   ]
  },
  {
   "cell_type": "markdown",
   "metadata": {},
   "source": [
    "### 62.Accept the String and print the words composed of digits only"
   ]
  },
  {
   "cell_type": "code",
   "execution_count": 43,
   "metadata": {},
   "outputs": [
    {
     "name": "stdout",
     "output_type": "stream",
     "text": [
      "Enter a string value: sw 23 rtf 56\n",
      "23\n",
      "56\n"
     ]
    }
   ],
   "source": [
    "str2=input(\"Enter a string value: \")\n",
    "str4=[]\n",
    "for i in range(len(str2.split())):\n",
    "    if str2.split()[i].isdigit()==True:\n",
    "        str4.append(str2.split()[i])\n",
    "for i in str4:\n",
    "    print(i)"
   ]
  }
 ],
 "metadata": {
  "kernelspec": {
   "display_name": "Python 3",
   "language": "python",
   "name": "python3"
  },
  "language_info": {
   "codemirror_mode": {
    "name": "ipython",
    "version": 3
   },
   "file_extension": ".py",
   "mimetype": "text/x-python",
   "name": "python",
   "nbconvert_exporter": "python",
   "pygments_lexer": "ipython3",
   "version": "3.8.5"
  },
  "varInspector": {
   "cols": {
    "lenName": 16,
    "lenType": 16,
    "lenVar": 40
   },
   "kernels_config": {
    "python": {
     "delete_cmd_postfix": "",
     "delete_cmd_prefix": "del ",
     "library": "var_list.py",
     "varRefreshCmd": "print(var_dic_list())"
    },
    "r": {
     "delete_cmd_postfix": ") ",
     "delete_cmd_prefix": "rm(",
     "library": "var_list.r",
     "varRefreshCmd": "cat(var_dic_list()) "
    }
   },
   "types_to_exclude": [
    "module",
    "function",
    "builtin_function_or_method",
    "instance",
    "_Feature"
   ],
   "window_display": false
  }
 },
 "nbformat": 4,
 "nbformat_minor": 4
}
