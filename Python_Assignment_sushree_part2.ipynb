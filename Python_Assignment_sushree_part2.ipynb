{
 "cells": [
  {
   "cell_type": "markdown",
   "metadata": {},
   "source": [
    "### 63.find the parity outlier from the given sequence use list comprehension seq=1,2,3,5,7\n",
    "\n"
   ]
  },
  {
   "cell_type": "code",
   "execution_count": 1,
   "metadata": {},
   "outputs": [
    {
     "data": {
      "text/plain": [
       "[2, 8]"
      ]
     },
     "execution_count": 1,
     "metadata": {},
     "output_type": "execute_result"
    }
   ],
   "source": [
    "from collections import Counter\n",
    "\n",
    "\n",
    "def parity_outliers(nums):\n",
    "    return[x for x in nums\n",
    "           if x % 2 != Counter([y % 2 for y in nums]).most_common()[0][0]]\n",
    "\n",
    "\n",
    "seq = [1, 2, 3, 5, 7,8]\n",
    "parity_outliers(seq)"
   ]
  },
  {
   "cell_type": "markdown",
   "metadata": {},
   "source": [
    "### 64.get the complement where"
   ]
  },
  {
   "cell_type": "code",
   "execution_count": null,
   "metadata": {},
   "outputs": [],
   "source": [
    "A ->> T\n",
    "T -->> A\n",
    "C --> G\n",
    "G --> C\n",
    "for the given DNA dna=\"ATTGC\""
   ]
  },
  {
   "cell_type": "code",
   "execution_count": 36,
   "metadata": {},
   "outputs": [
    {
     "name": "stdout",
     "output_type": "stream",
     "text": [
      "TAACG\n"
     ]
    }
   ],
   "source": [
    "dna=\"ATTGC\"\n",
    "result=\"\"\n",
    "for i in dna:\n",
    "    if i==\"A\":\n",
    "        result+=\"T\"\n",
    "    elif i==\"T\":\n",
    "        result+=\"A\"\n",
    "    elif i==\"C\":\n",
    "        result+=\"G\"\n",
    "    else:\n",
    "        result+=\"C\"\n",
    "\n",
    "print(result)\n",
    "        "
   ]
  },
  {
   "cell_type": "markdown",
   "metadata": {},
   "source": [
    "### 65.Write a program that inputs a number from the user and displays the factorial of that number using while loop."
   ]
  },
  {
   "cell_type": "code",
   "execution_count": 4,
   "metadata": {},
   "outputs": [
    {
     "name": "stdout",
     "output_type": "stream",
     "text": [
      "Enter a number : 5\n",
      "factorial of  5 is 120\n"
     ]
    }
   ],
   "source": [
    "number=int(input(\"Enter a number : \"))\n",
    "fact=1\n",
    "i=1\n",
    "while i<= number:\n",
    "        fact=fact*i\n",
    "        i+=1\n",
    "print(\"factorial of \",number,\"is\", fact)"
   ]
  },
  {
   "cell_type": "markdown",
   "metadata": {},
   "source": [
    "### 66.Ask the user for a number,to pick the color from the list print the color. color= Blue, Green, Orange, Red"
   ]
  },
  {
   "cell_type": "code",
   "execution_count": 41,
   "metadata": {},
   "outputs": [
    {
     "name": "stdout",
     "output_type": "stream",
     "text": [
      "Enter a number for color: 3\n",
      "Red\n"
     ]
    }
   ],
   "source": [
    "color=[\"Blue\",\"Green\",\"Orange\",\"Red\"]\n",
    "n=int(input(\"Enter a number for color: \"))\n",
    "print(color[n])"
   ]
  },
  {
   "cell_type": "markdown",
   "metadata": {},
   "source": [
    "### 67.Write a program that computes the value of a+aa+aaa+aaaa with a given digit as the value of a"
   ]
  },
  {
   "cell_type": "code",
   "execution_count": 6,
   "metadata": {},
   "outputs": [
    {
     "name": "stdout",
     "output_type": "stream",
     "text": [
      "Enter a number : 5\n",
      "6170\n"
     ]
    }
   ],
   "source": [
    "num=input(\"Enter a number : \")\n",
    "n1= num*1\n",
    "n2=num*2\n",
    "n3=num*3\n",
    "n4=num*4\n",
    "\n",
    "total=int(n1)+int(n2)+int(n3)+int(n4)\n",
    "print(total)"
   ]
  },
  {
   "cell_type": "markdown",
   "metadata": {},
   "source": [
    "### 68.write a program that lets user to input the value seperate by \",\" and create a list from it using list comprehension"
   ]
  },
  {
   "cell_type": "code",
   "execution_count": 53,
   "metadata": {},
   "outputs": [
    {
     "name": "stdout",
     "output_type": "stream",
     "text": [
      "Enter a value : se,fd,kl\n",
      "['se', 'fd', 'kl']\n"
     ]
    }
   ],
   "source": [
    "num=input(\"Enter a value : \")\n",
    "li=[i for i in num.split(\",\")]\n",
    "print(li)"
   ]
  },
  {
   "cell_type": "markdown",
   "metadata": {},
   "source": [
    "### 69.Write a program that calculates and prints the value according to the given formula: Q = Square root of (2 C D)/H given, c=50 h=30 D is the variable whose values should be input to your program in a comma-separated sequence. Example 100,150,180 The output : 18,22,24"
   ]
  },
  {
   "cell_type": "code",
   "execution_count": 57,
   "metadata": {},
   "outputs": [
    {
     "name": "stdout",
     "output_type": "stream",
     "text": [
      "Enter numbers : 100,150,180\n",
      "[18, 22, 24]\n"
     ]
    }
   ],
   "source": [
    "numbers=input(\"Enter numbers : \")\n",
    "numbers=numbers.split(\",\")\n",
    "result_1=[]\n",
    "for i in numbers:\n",
    "    result_1.append(round(((2*50*int(i))/30)**0.5))\n",
    "print(result_1)"
   ]
  },
  {
   "cell_type": "markdown",
   "metadata": {},
   "source": [
    "### 70.Write a program that accepts a sequence of whitespace separated words as input and prints the words after removing all duplicate words and sorting them alphanumerically."
   ]
  },
  {
   "cell_type": "code",
   "execution_count": 9,
   "metadata": {},
   "outputs": [
    {
     "name": "stdout",
     "output_type": "stream",
     "text": [
      "Enter value : sadhana was born in 1992 and she was so small\n",
      "1992 and born in sadhana she small so was\n"
     ]
    }
   ],
   "source": [
    "num=input(\"Enter value : \")\n",
    "words=[i for i in num.split(\" \")]\n",
    "print(\" \".join(sorted(list(set(words)))))"
   ]
  },
  {
   "cell_type": "markdown",
   "metadata": {},
   "source": [
    "### 71.Write a program which accepts a sequence of comma separated 4 digit binary numbers and then check whether they are divisible by 5 or not. print the number Example: 0100,0011,1010,1001 Then the output should be: 1010"
   ]
  },
  {
   "cell_type": "code",
   "execution_count": 7,
   "metadata": {},
   "outputs": [
    {
     "name": "stdout",
     "output_type": "stream",
     "text": [
      "1101,1111,1001,1010\n",
      "['1111', '1010']\n"
     ]
    }
   ],
   "source": [
    "li=[]\n",
    "num=[i for i in input().split(\",\")]\n",
    "for k in num:\n",
    "    i= int(k,2)\n",
    "    if i%5==0:\n",
    "        li.append(k)\n",
    "print(li)"
   ]
  },
  {
   "cell_type": "markdown",
   "metadata": {},
   "source": [
    "### 72.By using list comprehension, please write a program to print the list after removing the even index numbers li=range(10)"
   ]
  },
  {
   "cell_type": "code",
   "execution_count": 2,
   "metadata": {},
   "outputs": [
    {
     "name": "stdout",
     "output_type": "stream",
     "text": [
      "['delhi', 'dubai', 'amsterdam', 23, 'stockholm', 45, 67, 89, 2, 9]\n",
      "['dubai', 23, 45, 89, 9]\n"
     ]
    },
    {
     "data": {
      "text/plain": [
       "5"
      ]
     },
     "execution_count": 2,
     "metadata": {},
     "output_type": "execute_result"
    }
   ],
   "source": [
    "li=[\"delhi\",\"dubai\",\"amsterdam\",23,\"stockholm\",45,67,89,2,9]\n",
    "li2=[]\n",
    "li2=[li[i] for i in range(len(li)) if i%2 != 0]\n",
    "print(li)\n",
    "print(li2)\n",
    "len(li2)\n"
   ]
  },
  {
   "cell_type": "markdown",
   "metadata": {},
   "source": [
    "### 73.write a function to get the sum of two num(use lambda)"
   ]
  },
  {
   "cell_type": "code",
   "execution_count": 40,
   "metadata": {},
   "outputs": [
    {
     "name": "stdout",
     "output_type": "stream",
     "text": [
      "Enter first number:-20\n",
      "Enter second number:-30\n",
      "Sum is : -50\n"
     ]
    }
   ],
   "source": [
    "a=lambda x,y: x+y\n",
    "x = int(input(\"Enter first number:\"))\n",
    "y = int(input(\"Enter second number:\"))\n",
    "result=a(x,y)\n",
    "print(\"Sum is :\", result)"
   ]
  },
  {
   "cell_type": "markdown",
   "metadata": {},
   "source": [
    "### 74.write a function to print if leap year or not"
   ]
  },
  {
   "cell_type": "code",
   "execution_count": 11,
   "metadata": {},
   "outputs": [
    {
     "name": "stdout",
     "output_type": "stream",
     "text": [
      "Enter a year : 2081\n",
      "2081 is not a leap year\n"
     ]
    }
   ],
   "source": [
    "year=int(input(\"Enter a year : \"))\n",
    "if (year%4)==0:\n",
    "    if (year%100)==0:\n",
    "        if (year%400)==0:\n",
    "            print(\"{0} is a leap year\",format(year))\n",
    "        else:\n",
    "            print(\"{0} is not a leap year\",format(year))\n",
    "    else:\n",
    "        print(\"{0} is a leap year\",format(year))\n",
    "else:\n",
    "    print(f\"{year} is not a leap year\")"
   ]
  },
  {
   "cell_type": "markdown",
   "metadata": {},
   "source": [
    "### 75.write a function to count a bit(number of 1) in number (use lambda)"
   ]
  },
  {
   "cell_type": "code",
   "execution_count": 6,
   "metadata": {},
   "outputs": [
    {
     "name": "stdout",
     "output_type": "stream",
     "text": [
      "Enter a number : 15\n",
      "4\n"
     ]
    }
   ],
   "source": [
    "#without lambda function\n",
    "num=int(input(\"Enter a number : \"))\n",
    "binarry=bin(num)\n",
    "summ=[]\n",
    "summ=[x for x in binarry[2:] if x == \"1\"]\n",
    "print(len(summ))"
   ]
  },
  {
   "cell_type": "code",
   "execution_count": 4,
   "metadata": {},
   "outputs": [
    {
     "data": {
      "text/plain": [
       "'0b1111'"
      ]
     },
     "execution_count": 4,
     "metadata": {},
     "output_type": "execute_result"
    }
   ],
   "source": [
    "#to check above program\n",
    "bin(15)"
   ]
  },
  {
   "cell_type": "code",
   "execution_count": 8,
   "metadata": {},
   "outputs": [
    {
     "name": "stdout",
     "output_type": "stream",
     "text": [
      "Enter a number : 15\n",
      "4\n"
     ]
    }
   ],
   "source": [
    "#using lambda function\n",
    "num=int(input(\"Enter a number : \"))\n",
    "binarry=bin(num)\n",
    "summ=[]\n",
    "for i in binarry[2:]:\n",
    "    if i==\"1\":\n",
    "        summ.append(lambda x:summ + x(i))\n",
    "print(len(summ))"
   ]
  },
  {
   "cell_type": "markdown",
   "metadata": {},
   "source": [
    "### 76.write a program to get the area of a circle from the radius (use lambda)\n",
    "\n"
   ]
  },
  {
   "cell_type": "code",
   "execution_count": 32,
   "metadata": {},
   "outputs": [
    {
     "name": "stdout",
     "output_type": "stream",
     "text": [
      "Enter the radius : 2\n",
      "12.56\n"
     ]
    }
   ],
   "source": [
    "PI=3.14\n",
    "radius=float(input(\"Enter the radius : \"))\n",
    "area=lambda x : PI * x * x\n",
    "print(area(radius))"
   ]
  },
  {
   "cell_type": "markdown",
   "metadata": {},
   "source": [
    "### 77.write a function to get the factorial of given number use recurssion"
   ]
  },
  {
   "cell_type": "code",
   "execution_count": 15,
   "metadata": {},
   "outputs": [
    {
     "name": "stdout",
     "output_type": "stream",
     "text": [
      "Enter a number : 0\n"
     ]
    },
    {
     "data": {
      "text/plain": [
       "1"
      ]
     },
     "execution_count": 15,
     "metadata": {},
     "output_type": "execute_result"
    }
   ],
   "source": [
    "\n",
    "def fac_torial(n):\n",
    "    if n==1 or n==0:\n",
    "        return 1\n",
    "    else:\n",
    "        return n*fac_torial(n-1)\n",
    "    \n",
    "num=int(input(\"Enter a number : \"))\n",
    "fac_torial(num)\n",
    "        \n",
    "    "
   ]
  },
  {
   "cell_type": "markdown",
   "metadata": {},
   "source": [
    "### 78.write a program to remove a duplicate word in a list or user input sentences."
   ]
  },
  {
   "cell_type": "code",
   "execution_count": 16,
   "metadata": {},
   "outputs": [
    {
     "name": "stdout",
     "output_type": "stream",
     "text": [
      "Enter a sentence : zoo animal lives in a zoo but their life is in zoo\n",
      "animal is but life a their in zoo lives\n"
     ]
    }
   ],
   "source": [
    "input_value=input(\"Enter a sentence : \")\n",
    "words=[i for i in(input_value.split(\" \"))]\n",
    "print(\" \".join(list(set(words))))\n"
   ]
  },
  {
   "cell_type": "code",
   "execution_count": 10,
   "metadata": {},
   "outputs": [
    {
     "name": "stdout",
     "output_type": "stream",
     "text": [
      "Please write your sentence here: corona is everywhere corona corona is is\n"
     ]
    },
    {
     "data": {
      "text/plain": [
       "['corona', 'is', 'everywhere']"
      ]
     },
     "execution_count": 10,
     "metadata": {},
     "output_type": "execute_result"
    }
   ],
   "source": [
    "#other way for Q.78\n",
    "#using dict.fromkeys()\n",
    "def remove_duplicate():\n",
    "    a=input(\"Please write your sentence here: \")\n",
    "    lst=[]\n",
    "    for i in a.lower().split(\" \"):\n",
    "        lst.append(i)\n",
    "    lst=list(dict.fromkeys(lst))\n",
    "    return lst\n",
    "remove_duplicate()"
   ]
  },
  {
   "cell_type": "markdown",
   "metadata": {},
   "source": [
    "### 79.calculate fibonacci"
   ]
  },
  {
   "cell_type": "code",
   "execution_count": 16,
   "metadata": {},
   "outputs": [
    {
     "name": "stdout",
     "output_type": "stream",
     "text": [
      "Enter a value : 7\n",
      "Fibonacci series is :\n",
      "0\n",
      "1\n",
      "1\n",
      "2\n",
      "3\n",
      "5\n",
      "8\n"
     ]
    }
   ],
   "source": [
    "num_2=int(input(\"Enter a value : \"))\n",
    "n1 , n2 = 0 , 1\n",
    "count=0\n",
    "if num_2 <= 0:\n",
    "    print(\"Enter a positive number\")\n",
    "elif num_2 == 1:\n",
    "    print(\"Fibinacci series is upto\",num_2,\":\")\n",
    "    print(n1)\n",
    "else:\n",
    "    print(\"Fibonacci series is :\")\n",
    "    while count < num_2:\n",
    "        print(n1)\n",
    "        n_ext=n1+n2\n",
    "        n1=n2\n",
    "        n2=n_ext\n",
    "        count+=1\n",
    "\n",
    "            \n"
   ]
  },
  {
   "cell_type": "markdown",
   "metadata": {},
   "source": [
    "### 80.write a function to get the premutation and combination"
   ]
  },
  {
   "cell_type": "code",
   "execution_count": 17,
   "metadata": {},
   "outputs": [
    {
     "name": "stdout",
     "output_type": "stream",
     "text": [
      "Enter the number of things to choose from : 16\n",
      "Enter the number of things to repeat : 2\n",
      "120\n",
      "240\n"
     ]
    }
   ],
   "source": [
    "def facy(num):\n",
    "    if num==1:\n",
    "        return num\n",
    "    else:\n",
    "        return num*facy(num-1)\n",
    "    \n",
    "n=int(input(\"Enter the number of things to choose from : \"))\n",
    "r=int(input(\"Enter the number of things to repeat : \"))\n",
    "combination1=int(facy(n)/(facy(r)*(facy(n-r))))\n",
    "print(combination1)\n",
    "\n",
    "permutation1=int(facy(n)/facy(n-r))\n",
    "print(permutation1)"
   ]
  },
  {
   "cell_type": "markdown",
   "metadata": {},
   "source": [
    "### 81.write a function to draw a diamond shape from a user given number: hint: only odd number can draw a diamond shape"
   ]
  },
  {
   "cell_type": "code",
   "execution_count": 2,
   "metadata": {},
   "outputs": [
    {
     "name": "stdout",
     "output_type": "stream",
     "text": [
      "Enter the number of rows : 7\n",
      "            * \n",
      "           * * \n",
      "          * * * \n",
      "         * * * * \n",
      "        * * * * * \n",
      "       * * * * * * \n",
      "      * * * * * * * \n",
      "     * * * * * * * * \n",
      "      * * * * * * * \n",
      "       * * * * * * \n",
      "        * * * * * \n",
      "         * * * * \n",
      "          * * * \n",
      "           * * \n",
      "            * \n"
     ]
    }
   ],
   "source": [
    "rows=(int(input(\"Enter the number of rows : \")))\n",
    "k=2*rows-2\n",
    "for i in range(0,rows):\n",
    "    for j in range(0,k):\n",
    "        print(end=\" \")\n",
    "    k=k-1\n",
    "    for j in range(0,i+1):\n",
    "        print(\"* \",end=\"\")\n",
    "    print(\"\")\n",
    "    \n",
    "k=rows-2\n",
    "\n",
    "for i in range(rows,-1,-1):\n",
    "    for j in range(k,0,-1):\n",
    "        print(end=\" \")\n",
    "    k=k+1\n",
    "    for j in range(0,i+1):\n",
    "        print(\"* \",end=\"\")\n",
    "    print(\"\")"
   ]
  },
  {
   "cell_type": "markdown",
   "metadata": {},
   "source": [
    "### 82.build a simple calculator which can: add subtract multiply divide"
   ]
  },
  {
   "cell_type": "code",
   "execution_count": 3,
   "metadata": {},
   "outputs": [
    {
     "name": "stdout",
     "output_type": "stream",
     "text": [
      "Choose one operation\n",
      "1. Addition\n",
      "2. Substraction\n",
      "3. Multiplication\n",
      "4. Division\n",
      "Enter your choice(1 or 2 or 3 or 4): 3\n",
      "Enter first number: 40\n",
      "Enter second number: -2\n",
      "40.0 * -2.0 = -80.0\n"
     ]
    }
   ],
   "source": [
    "def add(x,y):\n",
    "    return a+b\n",
    "def substraction(x,y):\n",
    "    return x-y\n",
    "def multiplication(x,y):\n",
    "    return x*y\n",
    "def division(x,y):\n",
    "    return x/y\n",
    "print(\"Choose one operation\")\n",
    "print(\"1. Addition\")\n",
    "print(\"2. Substraction\")\n",
    "print(\"3. Multiplication\")\n",
    "print(\"4. Division\")\n",
    "\n",
    "while True:\n",
    "    Your_Choice=input(\"Enter your choice(1 or 2 or 3 or 4): \")\n",
    "    if Your_Choice in (\"1\",\"2\",\"3\",\"4\"):\n",
    "        num1=float(input(\"Enter first number: \"))\n",
    "        num2=float(input(\"Enter second number: \"))\n",
    "        if Your_Choice == \"1\":\n",
    "            print(num1,\"+\",num2,\"=\",add(num1,num2))\n",
    "        elif Your_Choice == \"2\":\n",
    "            print(num1,\"-\",num2,\"=\",substraction(num1,num2))\n",
    "        elif Your_Choice == \"3\":\n",
    "            print(num1,\"*\",num2,\"=\",multiplication(num1,num2))\n",
    "        elif Your_Choice == \"4\":\n",
    "            print(num1,\"/\",num2,\"=\",division(num1,num2))\n",
    "        break\n",
    "    else:\n",
    "        print(\"Invalid Input\")\n",
    "        "
   ]
  },
  {
   "cell_type": "markdown",
   "metadata": {},
   "source": [
    "### 83.define a function which can print a given string in a circular rotation"
   ]
  },
  {
   "cell_type": "code",
   "execution_count": 19,
   "metadata": {},
   "outputs": [
    {
     "name": "stdout",
     "output_type": "stream",
     "text": [
      "Enter a string: integrify\n",
      "integrify\n",
      "ntegrifyi\n",
      "tegrifyin\n",
      "egrifyint\n",
      "grifyinte\n",
      "rifyinteg\n",
      "ifyintegr\n",
      "fyintegri\n",
      "yintegrif\n"
     ]
    }
   ],
   "source": [
    "str1=input(\"Enter a string: \")\n",
    "n=len(str1)\n",
    "temp=str1 + str1\n",
    "for i in range(n):\n",
    "    for j in range(n):\n",
    "        print(temp[i+j],end=\"\")\n",
    "    print()\n",
    "    "
   ]
  },
  {
   "cell_type": "markdown",
   "metadata": {},
   "source": [
    "### 84.write a function to calculate the GCD of 2 number"
   ]
  },
  {
   "cell_type": "code",
   "execution_count": 20,
   "metadata": {},
   "outputs": [
    {
     "name": "stdout",
     "output_type": "stream",
     "text": [
      "Enter first number: 10\n",
      "Enter second number: 15\n",
      "GCD of two number is 5\n"
     ]
    }
   ],
   "source": [
    "num1=int(input(\"Enter first number: \"))\n",
    "num2=int(input(\"Enter second number: \"))\n",
    "i=1\n",
    "while(i<=num1 and i<=num2):\n",
    "    if (num1%i==0 and num2%i==0):\n",
    "        gcd=i\n",
    "    i+=1\n",
    "print(f\"GCD of two number is {gcd}\")\n",
    "        \n",
    "    "
   ]
  },
  {
   "cell_type": "markdown",
   "metadata": {},
   "source": [
    "### 85.Write a Python function to check whether a string is pangram or not."
   ]
  },
  {
   "cell_type": "code",
   "execution_count": 12,
   "metadata": {},
   "outputs": [
    {
     "name": "stdout",
     "output_type": "stream",
     "text": [
      "Enter a string to check pangram or not: sadhana is staying at stockholm\n",
      "No,this is not a pangram string\n"
     ]
    }
   ],
   "source": [
    "def pangram(str2):\n",
    "    m=\"abcdefghijklmnopqrstuvwxyz\"\n",
    "    for i in m:\n",
    "        if i not in str2.lower():\n",
    "            return False\n",
    "    return True\n",
    "str3=input(\"Enter a string to check pangram or not: \")\n",
    "if(pangram(str3)==True):\n",
    "    print(\"Yes,this string is a pangram string\")\n",
    "else:\n",
    "    print(\"No,this is not a pangram string\")"
   ]
  },
  {
   "cell_type": "markdown",
   "metadata": {},
   "source": [
    "### 86.write a function which take a list of number and target where target is number . print the index from the list where the sum of the index value is equal to that of the target"
   ]
  },
  {
   "cell_type": "code",
   "execution_count": 33,
   "metadata": {},
   "outputs": [
    {
     "name": "stdout",
     "output_type": "stream",
     "text": [
      "Enter the values to a list 2 3 5 6 7\n",
      "Enter the target value : 8\n"
     ]
    },
    {
     "data": {
      "text/plain": [
       "[0, 3]"
      ]
     },
     "execution_count": 33,
     "metadata": {},
     "output_type": "execute_result"
    }
   ],
   "source": [
    "def my_valu(list1,target):\n",
    "    for i in range(len(list1)):\n",
    "        for j in range(i,len(list1)):\n",
    "            if list1[i]+list1[j]==target:\n",
    "                return([i,j])\n",
    "num1=input(\"Enter the values to a list: \")\n",
    "num_list=num1.split()\n",
    "for i in range(len(num_list)):\n",
    "    num_list[i]=int(num_list[i])\n",
    "tr=int(input(\"Enter the target value : \"))\n",
    "my_valu(num_list,tr)"
   ]
  },
  {
   "cell_type": "markdown",
   "metadata": {},
   "source": [
    "### 87.write a function to calculate the LCM of a 2 number lcm of 54 and 42 is 378"
   ]
  },
  {
   "cell_type": "code",
   "execution_count": 36,
   "metadata": {},
   "outputs": [
    {
     "data": {
      "text/plain": [
       "378"
      ]
     },
     "execution_count": 36,
     "metadata": {},
     "output_type": "execute_result"
    }
   ],
   "source": [
    "def calculate_lcm(x,y):\n",
    "    if x>y:\n",
    "        greater=x\n",
    "    else:\n",
    "        greater=y\n",
    "    while True:\n",
    "        if (greater%x==0 and greater%y==0):\n",
    "            lcm=greater\n",
    "            break\n",
    "        greater+=1\n",
    "    return lcm\n",
    "calculate_lcm(54,42)"
   ]
  },
  {
   "cell_type": "markdown",
   "metadata": {},
   "source": [
    "### 88.write a function that gives the prime factor only"
   ]
  },
  {
   "cell_type": "code",
   "execution_count": 1,
   "metadata": {},
   "outputs": [
    {
     "name": "stdout",
     "output_type": "stream",
     "text": [
      "Enter a number : 50\n",
      "2\n",
      "5\n",
      "5\n"
     ]
    }
   ],
   "source": [
    "def prime_factor(num):\n",
    "    while num%2==0:\n",
    "        print (2)\n",
    "        num=num/2\n",
    "    for i in range(3,int(num**1.5)+1,2):\n",
    "        while num%i==0:\n",
    "            print (i)\n",
    "            num=num/i\n",
    "    if num>2:\n",
    "        print (num)\n",
    "        \n",
    "        \n",
    "num1=int(input(\"Enter a number : \"))\n",
    "prime_factor(num1)\n",
    "        "
   ]
  },
  {
   "cell_type": "code",
   "execution_count": 12,
   "metadata": {},
   "outputs": [
    {
     "data": {
      "text/plain": [
       "[5, 3, 2]"
      ]
     },
     "execution_count": 12,
     "metadata": {},
     "output_type": "execute_result"
    }
   ],
   "source": [
    "#another way for Q.88\n",
    "def prime_factor(n: int):\n",
    "    lst=[]\n",
    "    for i in range(2,n+1):\n",
    "        if n%i==0:\n",
    "            lst.append(i)\n",
    "    des=sorted(lst,reverse=True)\n",
    "    re=[]\n",
    "    for a in range(0,len(des)):\n",
    "        for b in range(a+1,len(des)):\n",
    "            if des[a]%des[b]==0:\n",
    "                re.append(des[a])\n",
    "    re=list(dict.fromkeys(re))\n",
    "    p=[j for j in des if j not in re]\n",
    "    return p\n",
    "    \n",
    "prime_factor(30)     "
   ]
  },
  {
   "cell_type": "markdown",
   "metadata": {},
   "source": [
    "### 89.write a function that print the first non repeating letter"
   ]
  },
  {
   "cell_type": "code",
   "execution_count": 2,
   "metadata": {},
   "outputs": [
    {
     "name": "stdout",
     "output_type": "stream",
     "text": [
      "Enter a string: aaaabbc\n"
     ]
    },
    {
     "data": {
      "text/plain": [
       "'c'"
      ]
     },
     "execution_count": 2,
     "metadata": {},
     "output_type": "execute_result"
    }
   ],
   "source": [
    "def non_repeat(string):\n",
    "    for i in range(len(string)):\n",
    "        repeated=False\n",
    "        for j in range(len(string)):\n",
    "            if string[i]==string[j] and i!=j:\n",
    "                repeated=True\n",
    "        if not repeated:\n",
    "            return string[i]\n",
    "strg=input(\"Enter a string: \")\n",
    "non_repeat(strg)"
   ]
  },
  {
   "cell_type": "markdown",
   "metadata": {},
   "source": [
    "### 90.return sum of array excluding the lowest and highest element"
   ]
  },
  {
   "cell_type": "code",
   "execution_count": 86,
   "metadata": {},
   "outputs": [
    {
     "name": "stdout",
     "output_type": "stream",
     "text": [
      "Enter the values to a list 2 7 4 1\n"
     ]
    },
    {
     "data": {
      "text/plain": [
       "6"
      ]
     },
     "execution_count": 86,
     "metadata": {},
     "output_type": "execute_result"
    }
   ],
   "source": [
    "def sum_array(arra):\n",
    "        if arra==None:\n",
    "            return 0\n",
    "        else:\n",
    "            return sum(sorted(arra)[1:-1])\n",
    "                        \n",
    "                        \n",
    "num_string=input(\"Enter the values to a list \")\n",
    "num_list=num_string.split()\n",
    "for i in range(len(num_list)):\n",
    "    num_list[i]=int(num_list[i])\n",
    "sum_array(num_list)"
   ]
  },
  {
   "cell_type": "markdown",
   "metadata": {},
   "source": [
    "### 91.define a function take a string value replace any number below 5 with 0 and any number above 5 with 1"
   ]
  },
  {
   "cell_type": "code",
   "execution_count": 13,
   "metadata": {},
   "outputs": [
    {
     "name": "stdout",
     "output_type": "stream",
     "text": [
      " enter number:12345678\n",
      "[0, 0, 0, 0, '5', 1, 1, 1]\n"
     ]
    }
   ],
   "source": [
    "num=input(\" enter number:\")\n",
    "a=[]\n",
    "for x in num:\n",
    "    if eval(x)<5:\n",
    "        a.append(0)\n",
    "    elif eval(x)==5:\n",
    "        a.append(x)\n",
    "    else :\n",
    "         a.append(1)\n",
    "\n",
    "print(a)"
   ]
  },
  {
   "cell_type": "markdown",
   "metadata": {},
   "source": [
    "### 92.write a function to get a day of week eg: (30,8,2010)=1"
   ]
  },
  {
   "cell_type": "code",
   "execution_count": 14,
   "metadata": {},
   "outputs": [
    {
     "name": "stdout",
     "output_type": "stream",
     "text": [
      "1\n"
     ]
    }
   ],
   "source": [
    "def dayofweek(d, m, y):\n",
    "    t = [ 0, 3, 2, 5, 0, 3,\n",
    "          5, 1, 4, 6, 2, 4 ]\n",
    "    y -= m < 3\n",
    "    return (( y + int(y / 4) - int(y / 100)+ int(y / 400) + t[m - 1] + d) % 7)\n",
    "day=dayofweek(30,8,2010)\n",
    "print(day)\n"
   ]
  },
  {
   "cell_type": "markdown",
   "metadata": {},
   "source": [
    "### 93.write a function to get all the permutation of the string"
   ]
  },
  {
   "cell_type": "code",
   "execution_count": 16,
   "metadata": {},
   "outputs": [
    {
     "name": "stdout",
     "output_type": "stream",
     "text": [
      "Enter a string value: 123\n",
      "123\n",
      "132\n",
      "213\n",
      "231\n",
      "321\n",
      "312\n"
     ]
    }
   ],
   "source": [
    "def change_to_string(list1):\n",
    "    return \"\".join(list1)\n",
    "\n",
    "def permute(list_value,first_index,last_index):\n",
    "    if first_index==last_index:\n",
    "        print (change_to_string(list_value))\n",
    "    else:\n",
    "        for i in range(first_index,last_index+1):\n",
    "            a[first_index],a[i]=a[i],a[first_index]\n",
    "            permute(list_value,first_index+1,last_index)\n",
    "            a[first_index],a[i]=a[i],a[first_index]\n",
    "\n",
    "            \n",
    "string1=input(\"Enter a string value: \")\n",
    "n=len(string1)\n",
    "a=list(string1)\n",
    "permute(a,0,n-1)\n",
    "        "
   ]
  },
  {
   "cell_type": "markdown",
   "metadata": {},
   "source": [
    "### 94.write a function to get all the possible subset of a string in a list"
   ]
  },
  {
   "cell_type": "code",
   "execution_count": 9,
   "metadata": {},
   "outputs": [
    {
     "name": "stdout",
     "output_type": "stream",
     "text": [
      "Enter values for set: abcd\n",
      "Enter number of pairs needed for subset: 2\n",
      "[{'d', 'a'}, {'d', 'b'}, {'d', 'c'}, {'a', 'b'}, {'a', 'c'}, {'b', 'c'}]\n"
     ]
    }
   ],
   "source": [
    "#if number of pairs is given\n",
    "import itertools\n",
    "def subsets(s,n):\n",
    "    return [set(i) for i in itertools.combinations(s,n)]\n",
    "s=set(input(\"Enter values for set: \"))\n",
    "n=int(input(\"Enter number of pairs needed for subset: \"))\n",
    "print(subsets(s,n))\n"
   ]
  },
  {
   "cell_type": "code",
   "execution_count": 19,
   "metadata": {},
   "outputs": [
    {
     "name": "stdout",
     "output_type": "stream",
     "text": [
      "The subsets of 'abc' are: [[], ['a'], ['b'], ['a', 'b'], ['c'], ['a', 'c'], ['b', 'c'], ['a', 'b', 'c']]\n"
     ]
    }
   ],
   "source": [
    "#find all possible subsets#\n",
    "def all_subsets(list_items):\n",
    "    subsets=[[]]\n",
    "    for i in list_items:\n",
    "        items=subsets[:]\n",
    "        for j in range(len(subsets)):\n",
    "            subsets[j]=subsets[j]+[i]\n",
    "        subsets=items+subsets\n",
    "    return subsets\n",
    "print(\"The subsets of 'abc' are:\",all_subsets(\"abc\"))"
   ]
  },
  {
   "cell_type": "markdown",
   "metadata": {},
   "source": [
    "### 95.write a function to get the length of the last word only from a string seperated by space ex:('string of words') == 5 ex:('adasd ')=5"
   ]
  },
  {
   "cell_type": "code",
   "execution_count": 20,
   "metadata": {},
   "outputs": [
    {
     "name": "stdout",
     "output_type": "stream",
     "text": [
      "Enter a string value: corona is everywhere\n",
      "The length of last word is 10\n"
     ]
    }
   ],
   "source": [
    "def l_lastWord(a):\n",
    "    l = 0\n",
    "    x = a.strip()\n",
    " \n",
    "    for i in range(len(x)):\n",
    "        if x[i] == \" \":\n",
    "            l = 0\n",
    "        else:\n",
    "            l += 1\n",
    "    return l\n",
    "inp =input(\"Enter a string value: \")\n",
    "print(\"The length of last word is\",\n",
    "                 l_lastWord(inp))"
   ]
  },
  {
   "cell_type": "markdown",
   "metadata": {},
   "source": [
    "### 96.Tower of Hanoi"
   ]
  },
  {
   "cell_type": "code",
   "execution_count": 122,
   "metadata": {},
   "outputs": [
    {
     "name": "stdout",
     "output_type": "stream",
     "text": [
      "Enter the number of disk: 2\n",
      "Move disk 1 from source A to destination C\n",
      "Move disk 2 from source A to destination B\n",
      "Move disk 1 from source C to destination B\n"
     ]
    }
   ],
   "source": [
    "def TowerOfHanoi(n , source, destination, auxiliary):\n",
    "    if n==1:\n",
    "        print (\"Move disk 1 from source\",source,\"to destination\",destination)\n",
    "        return\n",
    "    TowerOfHanoi(n-1, source, auxiliary, destination)\n",
    "    print (\"Move disk\",n,\"from source\",source,\"to destination\",destination)\n",
    "    TowerOfHanoi(n-1, auxiliary, destination, source)\n",
    "n=int(input(\"Enter the number of disk: \"))\n",
    "TowerOfHanoi(n,\"A\",\"B\",\"C\")"
   ]
  },
  {
   "cell_type": "markdown",
   "metadata": {},
   "source": [
    "### 97.Use a for loop to estimate π from the first 20 terms of the Madhava series:\n",
    "\n",
    "$$\\pi=\\sqrt{12}\\left(1-\\frac{1}{3 \\cdot 3}+\\frac{1}{5 \\cdot 3^{2}}-\\frac{1}{7 \\cdot 3^{3}}+\\cdots\\right)$$"
   ]
  },
  {
   "cell_type": "code",
   "execution_count": 25,
   "metadata": {},
   "outputs": [
    {
     "name": "stdout",
     "output_type": "stream",
     "text": [
      "π =  3.1415926535714034\n"
     ]
    }
   ],
   "source": [
    "\n",
    "pi=0\n",
    "for i in range(20):\n",
    "    pi=pi+(((-3)**(-i))/(2*i+1))\n",
    "pi=pi*(12**0.5)\n",
    "print(\"π = \",pi)    \n",
    "    "
   ]
  },
  {
   "cell_type": "markdown",
   "metadata": {},
   "source": [
    "### 98.write a function to check if the number is harshad or not A Harshad number is an integer that is divisible by the sum of its digits (for example, 21 is divisible by 2+1=3 and so is a Harshad number)."
   ]
  },
  {
   "cell_type": "code",
   "execution_count": 134,
   "metadata": {},
   "outputs": [
    {
     "name": "stdout",
     "output_type": "stream",
     "text": [
      "Enter a value: 45\n",
      "45 is a harsad number\n"
     ]
    }
   ],
   "source": [
    "n=int(input(\"Enter a value: \"))\n",
    "sum1=0\n",
    "x=0\n",
    "num=n\n",
    "while (n>0):\n",
    "    x=n%10\n",
    "    sum1=sum1+x\n",
    "    n=n//10\n",
    "    \n",
    "if (num % sum1 == 0):\n",
    "    print(str(num) ,\"is a harsad number\")\n",
    "else:\n",
    "    print(str(num),\"is not a harsad number\")"
   ]
  },
  {
   "cell_type": "markdown",
   "metadata": {},
   "source": [
    "### 99.write a function select_word(): to get a random word from a list of words use module random and call random.randint() to chose random"
   ]
  },
  {
   "cell_type": "code",
   "execution_count": 142,
   "metadata": {},
   "outputs": [
    {
     "name": "stdout",
     "output_type": "stream",
     "text": [
      "Enter a random line: delhi is capital of India\n",
      "delhi\n"
     ]
    }
   ],
   "source": [
    "import random\n",
    "def select_word(random_word_list):\n",
    "    random_word=random_word_list[random.randint(0,len(random_word_list))]\n",
    "    print(random_word)\n",
    "words=input(\"Enter a random line: \")\n",
    "words1=words.split()\n",
    "select_word(words1)\n",
    "\n",
    "    \n",
    "    "
   ]
  },
  {
   "cell_type": "markdown",
   "metadata": {},
   "source": [
    "### 100.write a function blank(word): where it should print _ after first letter to the range of length of word i.e apple= a _ _ _ _"
   ]
  },
  {
   "cell_type": "code",
   "execution_count": 145,
   "metadata": {},
   "outputs": [
    {
     "name": "stdout",
     "output_type": "stream",
     "text": [
      "Enter a word : sadhana\n"
     ]
    },
    {
     "data": {
      "text/plain": [
       "'s _ _ _ _ _ _'"
      ]
     },
     "execution_count": 145,
     "metadata": {},
     "output_type": "execute_result"
    }
   ],
   "source": [
    "new=input(\"Enter a word : \")\n",
    "n=len(new)\n",
    "new1=[]\n",
    "def blank(new_string):\n",
    "    if len(new_string)==1:\n",
    "        print(new_string)\n",
    "    else:\n",
    "        new1.append(new_string[0])\n",
    "        for i in range(len(new_string)-1):\n",
    "            new1.append(\"_\")\n",
    "        \n",
    "        line=\" \".join(new1)\n",
    "        return line\n",
    "blank(new)\n"
   ]
  },
  {
   "cell_type": "markdown",
   "metadata": {},
   "source": [
    "### 101.compete the code below"
   ]
  },
  {
   "cell_type": "code",
   "execution_count": 34,
   "metadata": {},
   "outputs": [
    {
     "ename": "NameError",
     "evalue": "name 'select_word' is not defined",
     "output_type": "error",
     "traceback": [
      "\u001b[1;31m---------------------------------------------------------------------------\u001b[0m",
      "\u001b[1;31mNameError\u001b[0m                                 Traceback (most recent call last)",
      "\u001b[1;32m<ipython-input-34-4bac366d973a>\u001b[0m in \u001b[0;36m<module>\u001b[1;34m\u001b[0m\n\u001b[0;32m     16\u001b[0m            \u001b[0mnext_letter\u001b[0m\u001b[1;33m=\u001b[0m\u001b[0minput\u001b[0m\u001b[1;33m(\u001b[0m\u001b[1;34m\"Input next letter : \"\u001b[0m\u001b[1;33m)\u001b[0m\u001b[1;33m\u001b[0m\u001b[1;33m\u001b[0m\u001b[0m\n\u001b[0;32m     17\u001b[0m            \u001b[0mhang_man\u001b[0m\u001b[1;33m(\u001b[0m\u001b[0mword\u001b[0m\u001b[1;33m,\u001b[0m\u001b[0mclue\u001b[0m\u001b[1;33m,\u001b[0m\u001b[0mnext_letter\u001b[0m\u001b[1;33m,\u001b[0m\u001b[0mtry_left\u001b[0m\u001b[1;33m)\u001b[0m\u001b[1;33m\u001b[0m\u001b[1;33m\u001b[0m\u001b[0m\n\u001b[1;32m---> 18\u001b[1;33m \u001b[0mword\u001b[0m\u001b[1;33m=\u001b[0m\u001b[0mselect_word\u001b[0m\u001b[1;33m(\u001b[0m\u001b[0mstring0\u001b[0m\u001b[1;33m)\u001b[0m\u001b[1;31m#call a function select word\u001b[0m\u001b[1;33m\u001b[0m\u001b[1;33m\u001b[0m\u001b[0m\n\u001b[0m\u001b[0;32m     19\u001b[0m \u001b[0mclue\u001b[0m\u001b[1;33m=\u001b[0m\u001b[0mblank\u001b[0m\u001b[1;33m(\u001b[0m\u001b[0mword\u001b[0m\u001b[1;33m)\u001b[0m\u001b[1;31m#call a function blank\u001b[0m\u001b[1;33m\u001b[0m\u001b[1;33m\u001b[0m\u001b[0m\n\u001b[0;32m     20\u001b[0m \u001b[1;31m#call a function hang_man() where set letter to word[0] and try_left to=5\u001b[0m\u001b[1;33m\u001b[0m\u001b[1;33m\u001b[0m\u001b[1;33m\u001b[0m\u001b[0m\n",
      "\u001b[1;31mNameError\u001b[0m: name 'select_word' is not defined"
     ]
    }
   ],
   "source": [
    " def hang_man(word,clue,letter,try_left):\n",
    "        try_=True\n",
    "        for i in range(len(word)):\n",
    "            if word[i]==letter:\n",
    "                clue=clue[:i]+letter+clue[i+1:]\n",
    "                try_=False\n",
    "        if try_==True:\n",
    "            try_left -= 1\n",
    "            print(\"wrong try\",try_left)\n",
    "        print(\"you got so far\",clue)\n",
    "        if word == clue:\n",
    "            print(\"you win\")\n",
    "        elif try_left ==0:\n",
    "            print(\"you lost\")\n",
    "        else:\n",
    "            next_letter=input(\"Input next letter : \")\n",
    "            hang_man(word,clue,next_letter,try_left)\n",
    "word=select_word(string0)#call a function select word\n",
    "clue=blank(word)#call a function blank\n",
    "#call a function hang_man() where set letter to word[0] and try_left to=5\n",
    "hang_man(word,clue,word[0],5)\n",
    "\n",
    "                \n",
    "    \n",
    "    # your code\n",
    "    #--------------------------------\n",
    "    # loop through the length of the word\n",
    "    # your code\n",
    "        # check condition if word is equal to letter\n",
    "        #the set clue= clue from o to current index of loop + letter + clue from current index +1 to last\n",
    "        # your code\n",
    "        #set try to false\n",
    "        # your code\n",
    "    #---------------------------------------------------\n",
    "    # check condition if try is true then decrease the try_left by 1\n",
    "    # your code\n",
    "        #print(\"wrong try\", try_left)\n",
    "    #print(\"you got so far\",clue)\n",
    " \n",
    "    # check if word is equal to clue:\n",
    "    #your code\n",
    "        #print(\"you win\")\n",
    "    # check is try_left is 0:\n",
    "    # your code\n",
    "        #print(\"you lost\")\n",
    "    #else:\n",
    "        # ask user to input next letter \n",
    "        #next_letter=\"your code\"\n",
    "        # call the recursive function of itself\n",
    " \n"
   ]
  },
  {
   "cell_type": "markdown",
   "metadata": {},
   "source": [
    "### 102.write a map function which calculate the list multiple of 5: eg: x == [ 2, 3, 4, 5, 6] y == [10, 15, 20, 25, 30]"
   ]
  },
  {
   "cell_type": "code",
   "execution_count": 156,
   "metadata": {},
   "outputs": [
    {
     "name": "stdout",
     "output_type": "stream",
     "text": [
      "Enter the numbers to a string: 23456\n",
      "['23456']\n",
      "[10, 15, 20, 25, 30]\n"
     ]
    }
   ],
   "source": [
    "def new_multiple(num):\n",
    "    num2=int(num)*5\n",
    "    return int(num2)\n",
    "new=input(\"Enter the numbers to a string: \")\n",
    "result=map(new_multiple,new)\n",
    "print(new.split())\n",
    "print(list(result))"
   ]
  },
  {
   "cell_type": "markdown",
   "metadata": {},
   "source": [
    "### 103.write a map function which multiply the odd values by 5 and add them to the list"
   ]
  },
  {
   "cell_type": "code",
   "execution_count": 14,
   "metadata": {},
   "outputs": [
    {
     "name": "stdout",
     "output_type": "stream",
     "text": [
      "Enter numbers to check: 23456\n",
      "['2', 15, '4', 25, '6']\n"
     ]
    }
   ],
   "source": [
    "list1=[]\n",
    "def multiplyodd_new(i):\n",
    "        if int(i)%2==0:\n",
    "            i==int(i)\n",
    "        else:\n",
    "            i=(int(i)*5)\n",
    "        return i\n",
    "numbers=input(\"Enter numbers to check: \")\n",
    "mapped_number=map(multiplyodd_new,numbers)\n",
    "print(list(mapped_number))"
   ]
  },
  {
   "cell_type": "code",
   "execution_count": 36,
   "metadata": {},
   "outputs": [
    {
     "name": "stdout",
     "output_type": "stream",
     "text": [
      "odd numbers from list x: [1, 3, 5, 7, 9]\n",
      "odd numbers multiplied by 5:  [5, 15, 25, 35, 45]\n"
     ]
    }
   ],
   "source": [
    "#another way for program Q.103\n",
    "x=[1,2,3,4,5,6,7,8,9,10]\n",
    "a=[i for i in x if i%2!=0]\n",
    "b=list(map(lambda x:x*5,a))\n",
    "print(\"odd numbers from list x:\",a)\n",
    "print(\"odd numbers multiplied by 5: \",b)"
   ]
  },
  {
   "cell_type": "code",
   "execution_count": 38,
   "metadata": {},
   "outputs": [
    {
     "data": {
      "text/plain": [
       "[5, 15, 25]"
      ]
     },
     "execution_count": 38,
     "metadata": {},
     "output_type": "execute_result"
    }
   ],
   "source": [
    "#other way for Q.103\n",
    "li=[1,2,3,4,5]\n",
    "list((map(lambda x:x*5,filter(lambda n:n%2==1,li))))"
   ]
  },
  {
   "cell_type": "markdown",
   "metadata": {},
   "source": [
    "### .104.write a map function to get: x=[2,3,4] y=[4,5] ans: z=[[6,7],[7,8],[8,9]]"
   ]
  },
  {
   "cell_type": "code",
   "execution_count": 50,
   "metadata": {},
   "outputs": [
    {
     "name": "stdout",
     "output_type": "stream",
     "text": [
      "The z list:  [[6, 7], [7, 8], [8, 9]]\n"
     ]
    }
   ],
   "source": [
    "get_sum=lambda x:[x+i for i in y]\n",
    "y=[4,5]\n",
    "z=list(map(get_sum,[2,3,4]))\n",
    "print(\"The z list: \",z)"
   ]
  },
  {
   "cell_type": "markdown",
   "metadata": {},
   "source": [
    "### 105.write a function to convert a z list to 1d list : use reduce"
   ]
  },
  {
   "cell_type": "code",
   "execution_count": 51,
   "metadata": {
    "scrolled": true
   },
   "outputs": [
    {
     "ename": "AttributeError",
     "evalue": "type object 'list' has no attribute '_add_'",
     "output_type": "error",
     "traceback": [
      "\u001b[1;31m---------------------------------------------------------------------------\u001b[0m",
      "\u001b[1;31mAttributeError\u001b[0m                            Traceback (most recent call last)",
      "\u001b[1;32m<ipython-input-51-7161a40fc415>\u001b[0m in \u001b[0;36m<module>\u001b[1;34m\u001b[0m\n\u001b[0;32m      1\u001b[0m \u001b[1;32mimport\u001b[0m \u001b[0mfunctools\u001b[0m\u001b[1;33m\u001b[0m\u001b[1;33m\u001b[0m\u001b[0m\n\u001b[0;32m      2\u001b[0m \u001b[0mcoer\u001b[0m\u001b[1;33m=\u001b[0m\u001b[1;32mlambda\u001b[0m \u001b[0mx\u001b[0m\u001b[1;33m:\u001b[0m\u001b[1;33m[\u001b[0m\u001b[0mi\u001b[0m \u001b[1;32mfor\u001b[0m \u001b[0mi\u001b[0m \u001b[1;32min\u001b[0m \u001b[0mx\u001b[0m\u001b[1;33m]\u001b[0m\u001b[1;33m\u001b[0m\u001b[1;33m\u001b[0m\u001b[0m\n\u001b[1;32m----> 3\u001b[1;33m \u001b[0mreduce\u001b[0m\u001b[1;33m(\u001b[0m\u001b[0mlist\u001b[0m\u001b[1;33m.\u001b[0m\u001b[0m_add_\u001b[0m\u001b[1;33m,\u001b[0m \u001b[0mlist\u001b[0m\u001b[1;33m(\u001b[0m\u001b[0mmap\u001b[0m\u001b[1;33m(\u001b[0m\u001b[0mcoer\u001b[0m\u001b[1;33m,\u001b[0m\u001b[0mz\u001b[0m\u001b[1;33m)\u001b[0m\u001b[1;33m)\u001b[0m\u001b[1;33m,\u001b[0m\u001b[1;33m[\u001b[0m\u001b[1;33m]\u001b[0m\u001b[1;33m)\u001b[0m\u001b[1;33m\u001b[0m\u001b[1;33m\u001b[0m\u001b[0m\n\u001b[0m",
      "\u001b[1;31mAttributeError\u001b[0m: type object 'list' has no attribute '_add_'"
     ]
    }
   ],
   "source": [
    "import functools\n",
    "coer=lambda x:[i for i in x]\n",
    "reduce(list._add_, list(map(coer,z)),[])"
   ]
  },
  {
   "cell_type": "markdown",
   "metadata": {},
   "source": [
    "### 106.write a function to convert a z list to 1d list : use reduce"
   ]
  },
  {
   "cell_type": "markdown",
   "metadata": {},
   "source": [
    "### 107.write a function using a type annotations which take a two vector a and b which calculate the vector sum eg: [1,2,3]+[4,5,6]=[5,7,9]"
   ]
  },
  {
   "cell_type": "code",
   "execution_count": 208,
   "metadata": {},
   "outputs": [
    {
     "data": {
      "text/plain": [
       "[5, 7, 9]"
      ]
     },
     "execution_count": 208,
     "metadata": {},
     "output_type": "execute_result"
    }
   ],
   "source": [
    "from typing import List\n",
    "Vector=List[int]\n",
    "def add(a: Vector, b: Vector) -> Vector:\n",
    "    assert len(a) == len(b)\n",
    "    return[i+j for i,j in zip(a,b)]\n",
    "a=[1,2,3]\n",
    "b=[4,5,6]\n",
    "add(a,b)\n",
    "    "
   ]
  },
  {
   "cell_type": "markdown",
   "metadata": {},
   "source": [
    "### 108.write a function which using a type annotation to calculate te dot product of two vector\n",
    "eg: [1,2,3]+[4,5,6]=32"
   ]
  },
  {
   "cell_type": "code",
   "execution_count": 52,
   "metadata": {},
   "outputs": [
    {
     "data": {
      "text/plain": [
       "32"
      ]
     },
     "execution_count": 52,
     "metadata": {},
     "output_type": "execute_result"
    }
   ],
   "source": [
    "from typing import List\n",
    "Vector=List[int]\n",
    "\n",
    "def multi_dot_product(a: Vector, b: Vector) -> int:\n",
    "    product=0\n",
    "    for i in range(0,n):\n",
    "        product=product + a[i]*b[i]\n",
    "    return product\n",
    "a=[1,2,3]\n",
    "b=[4,5,6]\n",
    "n=len(a)\n",
    "multi_dot_product(a,b)"
   ]
  },
  {
   "cell_type": "code",
   "execution_count": 54,
   "metadata": {},
   "outputs": [
    {
     "data": {
      "text/plain": [
       "32"
      ]
     },
     "execution_count": 54,
     "metadata": {},
     "output_type": "execute_result"
    }
   ],
   "source": [
    "#another way for Q.108\n",
    "def dot(x:List[int],y:List[int]) -> int:\n",
    "    return sum(list(map(lambda x,y:x*y,x,y)))\n",
    "dot([1,2,3],[4,5,6])"
   ]
  },
  {
   "cell_type": "markdown",
   "metadata": {},
   "source": [
    "### 109.write a function to calculate the sum of vector which take a list of vector using type annotation eg:[1,2],[3,4],[5,6]=[9,12]"
   ]
  },
  {
   "cell_type": "code",
   "execution_count": 15,
   "metadata": {},
   "outputs": [
    {
     "data": {
      "text/plain": [
       "[9, 12]"
      ]
     },
     "execution_count": 15,
     "metadata": {},
     "output_type": "execute_result"
    }
   ],
   "source": [
    "from typing import List\n",
    "Vector=List[int]\n",
    "def add(a: Vector, b: Vector ,c: Vector) -> Vector:\n",
    "    assert len(a) == len(b) == len(c)\n",
    "    return[i+j+k for i,j,k in zip(a,b,c)]\n",
    "a=[1,2]\n",
    "b=[3,4]\n",
    "c=[5,6]\n",
    "add(a,b,c)"
   ]
  },
  {
   "cell_type": "markdown",
   "metadata": {},
   "source": [
    "### 110.write a function to get the shape of a matrix also use type annotation: eg:[[1,2],[2,3]]=(2,2)"
   ]
  },
  {
   "cell_type": "code",
   "execution_count": 217,
   "metadata": {},
   "outputs": [
    {
     "data": {
      "text/plain": [
       "(2, 2)"
      ]
     },
     "execution_count": 217,
     "metadata": {},
     "output_type": "execute_result"
    }
   ],
   "source": [
    "from typing import List\n",
    "matrix=List[list]\n",
    "def show_type(a: matrix) -> tuple:\n",
    "    rows=len(a)\n",
    "    columns=(len(a[0]))\n",
    "    tuple1.append(rows)\n",
    "    tuple1.append(columns)\n",
    "    return tuple(tuple1)\n",
    "a=[[1,2],[2,3]]\n",
    "tuple1=[]\n",
    "show_type(a)\n",
    "    "
   ]
  },
  {
   "cell_type": "code",
   "execution_count": 57,
   "metadata": {},
   "outputs": [
    {
     "data": {
      "text/plain": [
       "(2, 2)"
      ]
     },
     "execution_count": 57,
     "metadata": {},
     "output_type": "execute_result"
    }
   ],
   "source": [
    "#another way for Q.110\n",
    "def shape(x:List[int])->tuple:\n",
    "    return(len(x),len(x[0]))\n",
    "shape([[1,2],[2,3]])"
   ]
  },
  {
   "cell_type": "markdown",
   "metadata": {},
   "source": [
    "### 111.write a functions to create a matrix and used function to crete a 3*3 identity matrix : hint:use a Callable from typing"
   ]
  },
  {
   "cell_type": "code",
   "execution_count": 59,
   "metadata": {},
   "outputs": [
    {
     "data": {
      "text/plain": [
       "[[1, 0, 0, 0, 0, 1, 0, 0, 0, 0, 1, 0, 0, 0, 0, 1]]"
      ]
     },
     "execution_count": 59,
     "metadata": {},
     "output_type": "execute_result"
    }
   ],
   "source": [
    "from typing import Callable\n",
    "Matrix=List[list]\n",
    "def make_matrix(num_rows:int,num_cols:int,entry_fn=Callable[[int,int],float]) -> Matrix:\n",
    "        return [[entry_fn(i,j) for j in range(num_cols) for i in range(num_rows)]]\n",
    "def identity_matrix(n:int)->Matrix:\n",
    "    return make_matrix(n,n,lambda i,j:1 if i==j else 0)\n",
    "identity_matrix(4)"
   ]
  },
  {
   "cell_type": "code",
   "execution_count": 75,
   "metadata": {},
   "outputs": [
    {
     "name": "stdout",
     "output_type": "stream",
     "text": [
      "[[1, 0, 0], [0, 1, 0], [0, 0, 1]]\n"
     ]
    }
   ],
   "source": [
    "#best way to solve Q.111 by Pasha\n",
    "from typing import Callable,List,Union\n",
    "\n",
    "Number = Union[int,float]\n",
    "Matrix = List[List[Number]]\n",
    "def create_matrix(m:int,n:int,func :Callable[[int,int],Number]) -> Matrix:\n",
    "    return [[kroneker(i,j) for j in range (n)] for i in range(m)]\n",
    "def kroneker(i: int,j: int)->int:\n",
    "    return 1 if i==j else 0\n",
    "print(create_matrix(3,3,kroneker))"
   ]
  },
  {
   "cell_type": "code",
   "execution_count": 74,
   "metadata": {},
   "outputs": [
    {
     "data": {
      "text/plain": [
       "[[1, 0, 0], [0, 1, 0], [0, 0, 1]]"
      ]
     },
     "execution_count": 74,
     "metadata": {},
     "output_type": "execute_result"
    }
   ],
   "source": [
    "#another approach for Q.111\n",
    "from typing import Callable\n",
    "Matrix=List[int]\n",
    "def make_matrix(num_rows: int,\n",
    "                num_cols: int,\n",
    "                entry_fn: Callable[[int, int], float]) -> Matrix:\n",
    "\n",
    "    return [[entry_fn(i,j)            # given i, create a list\n",
    "            for j in range(num_cols)] # [entry_fn(i, 0), ...]\n",
    "            for i in range(num_rows)] # create one list for each i\n",
    "\n",
    "def identity_matrix(n: int) -> Matrix:\n",
    "    \"\"\"Returns the n x n identity matrix\"\"\"\n",
    "    return make_matrix(n, n, lambda i, j: 1 if i == j else 0)\n",
    "identity_matrix(3)\n"
   ]
  },
  {
   "cell_type": "markdown",
   "metadata": {},
   "source": [
    "### 112.follow the link https://www.willamette.edu/~gorr/classes/cs449/reber.html and try to generate a embedded reber grammar as shown in fig 2. HINT: -first create a list of list of tuple of reber_ grammar\n",
    "\n",
    "the node and edges are:\n",
    "\n",
    "B=1,T=2, P=3, S=2,X=4,T=3,V=5,X=3,S=6,P=4,V=6,E=None\n",
    "\n",
    "create a list of tuple of (edge,Node)\n",
    "\n",
    "eg:[[(\"B\",1)], [(),()]]\n",
    "\n",
    "after that crete a list as shown in graph in figure 2"
   ]
  },
  {
   "cell_type": "code",
   "execution_count": 77,
   "metadata": {},
   "outputs": [
    {
     "name": "stdout",
     "output_type": "stream",
     "text": [
      "BTSSXSE\n"
     ]
    }
   ],
   "source": [
    "import random\n",
    "grammar = [\n",
    "    [('B', 1)],\n",
    "    [('T', 2), ('P', 3)],\n",
    "    [('S', 2), ('X', 4)],\n",
    "    [('T', 3), ('V', 5)],\n",
    "    [('S', 6), ('X', 3)],\n",
    "    [('P', 4), ('V', 6)],\n",
    "    [('E', None)]\n",
    "]\n",
    "def generate_reber_string(grammar):\n",
    "    s = 0\n",
    "    output = []\n",
    "    while s != None:\n",
    "        p, s = grammar[s][random.randint(0, len(grammar[s]) - 1)]\n",
    "        output.append(p)\n",
    "    return ''.join(output)\n",
    "print(generate_reber_string(grammar))\n"
   ]
  },
  {
   "cell_type": "code",
   "execution_count": 79,
   "metadata": {},
   "outputs": [
    {
     "name": "stdout",
     "output_type": "stream",
     "text": [
      "BTBTXXTTTTVPXVPXTVPXVVETE\n"
     ]
    }
   ],
   "source": [
    "import numpy as np\n",
    "from random import randint\n",
    "grammar = [[(\"B\",1)], [('T',2),('P',3)], [('X',4), ('S',2)],\n",
    "           [('V',5),('T',3)],[('X',3),('S',6)],[('P',4),('V',6)],\n",
    "           [('E',None)] ]\n",
    "\n",
    "def generate_reber_string(grammar):\n",
    "    s=0\n",
    "    output=[]\n",
    "    out = []\n",
    "    while s!=None:\n",
    "        p,s=grammar[s][np.random.randint(len(grammar[s]))]\n",
    "        if isinstance(p,list):\n",
    "            p = generate_reber_string(p)\n",
    "        output.append(p)\n",
    "    return \"\".join(output)\n",
    "grammar1 = [\n",
    "    [('B', 1)],\n",
    "    [('T', 2), ('P', 3)],\n",
    "    [(grammar,4)],\n",
    "    [(grammar,5)],\n",
    "    [('T',6)],\n",
    "    [('P',6)],\n",
    "    [('E', None)]]\n",
    "\n",
    "print(generate_reber_string(grammar1))\n"
   ]
  },
  {
   "cell_type": "markdown",
   "metadata": {},
   "source": [
    "### 113.write a function to generate a password :\n",
    "* password should have a number,special_char,alphabet(both   capital and small)\n",
    "* allow user to input the length of password"
   ]
  },
  {
   "cell_type": "code",
   "execution_count": 236,
   "metadata": {},
   "outputs": [
    {
     "name": "stdout",
     "output_type": "stream",
     "text": [
      "Enter the length of password : 8\n",
      "*Oj8.DV/\n"
     ]
    }
   ],
   "source": [
    "import random\n",
    "import array\n",
    "max_length=int(input(\"Enter the length of password : \"))\n",
    "Digits=['0', '1', '2', '3', '4', '5', '6', '7', '8', '9']\n",
    "Lowcase_characters=['a', 'b', 'c', 'd', 'e', 'f', 'g', 'h','i', 'j', 'k', 'm', 'n', 'o', 'p', 'q','r', 's', 't', 'u', 'v', 'w', 'x', 'y', 'z']\n",
    "Uppercase_characters=['A', 'B', 'C', 'D', 'E', 'F', 'G', 'H','I', 'J', 'K', 'M', 'N', 'O', 'p', 'Q','R', 'S', 'T', 'U', 'V', 'W', 'X', 'Y','Z']\n",
    "SYMBOLS = ['@', '#', '$', '%', '=', ':', '?', '.', '/', '|', '~', '>','*', '(', ')', '<']\n",
    "COMBINED_LIST=Digits+Lowcase_characters+Uppercase_characters+SYMBOLS\n",
    "rand_digit = random.choice(Digits)\n",
    "rand_upper = random.choice(Uppercase_characters)\n",
    "rand_lower = random.choice(Lowcase_characters)\n",
    "rand_symbol = random.choice(SYMBOLS)\n",
    "temp_pass = rand_digit + rand_upper + rand_lower + rand_symbol\n",
    "for x in range(max_length - 4):\n",
    "    temp_pass = temp_pass + random.choice(COMBINED_LIST)\n",
    "    temp_pass_list = array.array('u', temp_pass)\n",
    "    random.shuffle(temp_pass_list)\n",
    "    password = \"\"\n",
    "for x in temp_pass_list:\n",
    "        password = password + x\n",
    "         \n",
    "print(password)"
   ]
  },
  {
   "cell_type": "markdown",
   "metadata": {},
   "source": [
    "### 114.write a function to get the integers satisfying a2+b2=c2 called Pythagorean numbers.\n",
    "the function take a input from a user with a maximal number: eg: if user give: 5 it should print (3,4) similarly:10 3 ,4 6,8"
   ]
  },
  {
   "cell_type": "code",
   "execution_count": 240,
   "metadata": {},
   "outputs": [
    {
     "name": "stdout",
     "output_type": "stream",
     "text": [
      "Enter a maximal range: 10\n",
      "3 4 5\n",
      "6 8 10\n"
     ]
    }
   ],
   "source": [
    "def pythagorean_triplet(n):\n",
    "    for b in range(n):\n",
    "        for a in range(1,b):\n",
    "            c=((a*a+b*b)**0.5)\n",
    "            if c%1==0:\n",
    "                print(a,b,int(c))\n",
    "num=input(\"Enter a maximal range: \")\n",
    "pythagorean_triplet(int(num))"
   ]
  },
  {
   "cell_type": "markdown",
   "metadata": {},
   "source": [
    "### 115. write a program to guess a random number between range 1 to n\n",
    "\n",
    "* hint use random.randit() to generate a random number\n",
    "* the program should have upper bound and lower bound eg(1-30)\n",
    "* if user give 0 should exit the program\n",
    "* if the guess is less thean lower or grater than upper (\"not in boundary)"
   ]
  },
  {
   "cell_type": "code",
   "execution_count": 2,
   "metadata": {},
   "outputs": [
    {
     "name": "stdout",
     "output_type": "stream",
     "text": [
      "Guess a number between 1 and 30: 0\n",
      "Exit the program\n",
      "Guess a number between 1 and 30: 7\n",
      "Guess a number between 1 and 30: 8\n",
      "Well guessed\n"
     ]
    }
   ],
   "source": [
    "import random\n",
    "\n",
    "target_number,guess_number=random.randint(1,30),0\n",
    "while target_number!=guess_number:\n",
    "    guess_number=int(input(\"Guess a number between 1 and 30: \"))\n",
    "    if guess_number==0:\n",
    "        print(\"Exit the program\")\n",
    "    elif guess_number<1 or guess_number>30:\n",
    "        print(\"Not in boundary\")\n",
    "        \n",
    "    else:\n",
    "        continue\n",
    "print(\"Well guessed\")\n"
   ]
  },
  {
   "cell_type": "code",
   "execution_count": null,
   "metadata": {},
   "outputs": [
    {
     "name": "stdout",
     "output_type": "stream",
     "text": [
      "Choose lower bound: 13\n",
      "Choose upper bound: 31\n",
      "\n",
      "You have 5 chances to guess the integer!\n",
      "\n",
      "Take your guess: 34\n",
      "Outside set boundaries! Try a lower number!\n",
      "Not quite... Try something lower.\n",
      "\n",
      "Take your guess: 76\n",
      "Outside set boundaries! Try a lower number!\n",
      "Not quite... Try something lower.\n",
      "\n",
      "Take your guess: 3\n",
      "Outside set boundaries! Try a higher number!\n",
      "Not quite... Try something higher.\n"
     ]
    }
   ],
   "source": [
    "#bethny\n",
    "import random\n",
    "lb=int(input(\"Choose lower bound: \"))\n",
    "ub=int(input(\"Choose upper bound: \"))\n",
    "r=random.randint(lb, ub)\n",
    "print(\"\\nYou have 5 chances to guess the integer!\")\n",
    "count=0\n",
    "while count<5:\n",
    "    count +=1\n",
    "    guess=int(input(\"\\nTake your guess: \"))\n",
    "    if r==guess:\n",
    "        if count == 1:\n",
    "            print(f\"\\nWow!! You guessed it in {count} try! Amazing!\")\n",
    "        else:\n",
    "            print(f\"\\nYou guessed it in {count} tries!\")\n",
    "        break\n",
    "    if guess==0:\n",
    "        print(\"\\nNever guess 0! This is the end of your game!\")\n",
    "        break\n",
    "    if guess<lb:\n",
    "        print(\"Outside set boundaries! Try a higher number!\")\n",
    "    if guess>ub:\n",
    "        print(\"Outside set boundaries! Try a lower number!\")\n",
    "    if guess > r:\n",
    "        print(\"Not quite... Try something lower.\")\n",
    "    if guess < r:\n",
    "        print(\"Not quite... Try something higher.\")\n",
    "if count>= 5:\n",
    "    print(f\"Too bad - the number was {r}\")\n"
   ]
  },
  {
   "cell_type": "markdown",
   "metadata": {},
   "source": [
    "### 116. Write a function which takes a text and encrypts it with a Caesar cipher as well as decrypt.(https://en.wikipedia.org/wiki/Caesar_cipher) .\n",
    "\n",
    "* input:\"hello\",\n",
    "* output: encrypt:EBIIL\n",
    "* decyprt: HELLO"
   ]
  },
  {
   "cell_type": "code",
   "execution_count": 13,
   "metadata": {},
   "outputs": [
    {
     "name": "stdout",
     "output_type": "stream",
     "text": [
      "Enter a string value : ARREST\n",
      "Enter the value of shift character: 3\n",
      "Text :  ARREST\n",
      "Shift :  3\n",
      "Cipher:  DUUHVW\n",
      "Enter a string value to decrypt : DUUHVW\n",
      "Enter the value of shift character to decrypt: 3\n",
      "Text2 :  DUUHVW\n",
      "Shift :  3\n",
      "Cipher_decrypt:  ARREST\n"
     ]
    }
   ],
   "source": [
    "def encrypt(text,s):\n",
    "    result=\"\"\n",
    "    for i in range(len(text)):\n",
    "        char=text[i]\n",
    "        if (char.isupper()):\n",
    "            result+=chr((ord(char)+s-65)%26+65)\n",
    "        else:\n",
    "            result+=chr((ord(char)+s-97)%26+97)\n",
    "    return result\n",
    "\n",
    "\n",
    "\n",
    "def de_crypt(text,s):\n",
    "    result=\"\"\n",
    "    for i in range(len(text)):\n",
    "        char=text[i]\n",
    "        if (char.isupper()):\n",
    "            result=result+chr((ord(char)+26-s-65)%26+65)\n",
    "        else:\n",
    "            result=result+chr((ord(char)+26-s-97)%26+97)\n",
    "    return result\n",
    "    \n",
    "    \n",
    "    \n",
    "string=input(\"Enter a string value : \")\n",
    "n=int(input(\"Enter the value of shift character: \"))\n",
    "\n",
    "print (\"Text : \",string)\n",
    "print(\"Shift : \",n)\n",
    "print(\"Cipher: \",encrypt(string,n))\n",
    "\n",
    "string2=input(\"Enter a string value to decrypt : \")\n",
    "n2=int(input(\"Enter the value of shift character to decrypt: \"))\n",
    "\n",
    "\n",
    "print (\"Text2 : \",string2)\n",
    "print(\"Shift : \",n2)\n",
    "print(\"Cipher_decrypt: \",de_crypt(string2,n2))"
   ]
  },
  {
   "cell_type": "markdown",
   "metadata": {},
   "source": [
    "### 117.write a function which take a text and dictionary to decrypt or encrypt the text with a permutated alphabet hint:\n",
    "\n",
    "* alphabet=strings.ascii_letters\n",
    "* permuted=(from random use sample on alphabet and its length)\n",
    "* create a variable :\n",
    "** encrypt which is a dic of (alphabet and permuted)\n",
    "** decrypt which is a dic(permuted and alphabet)"
   ]
  },
  {
   "cell_type": "code",
   "execution_count": 83,
   "metadata": {},
   "outputs": [
    {
     "data": {
      "text/plain": [
       "('pLKKY', 'HELLO')"
      ]
     },
     "execution_count": 83,
     "metadata": {},
     "output_type": "execute_result"
    }
   ],
   "source": [
    "import string as st_\n",
    "from random import sample\n",
    "alphabet = st_.ascii_letters\n",
    "\n",
    "\n",
    "def cipher(text, permuted=None, alphabet=alphabet):\n",
    "    if permuted == None:\n",
    "        permuted = sample(alphabet, len(alphabet))\n",
    "    encrypt = dict(zip(alphabet, permuted))\n",
    "    decrypt = {perm: alp for alp, perm in encrypt.items()}\n",
    "\n",
    "    encrypted = \"\".join(list(map(lambda x: encrypt[x], text)))\n",
    "    decrypted = \"\".join(list(map(lambda x: decrypt[x], encrypted)))\n",
    "    return(encrypted, decrypted)\n",
    "\n",
    "\n",
    "cipher(\"HELLO\")"
   ]
  },
  {
   "cell_type": "markdown",
   "metadata": {},
   "source": [
    "### 118.Write a function which translates a text to morse code- (https://www.alamy.com/international-morse-code-letters-template-for-your-design-image271353887.html)\n",
    "\n",
    "Write another function which translates a string in Morse code into a \"normal“ string.\n",
    "\n",
    "* hint\n",
    "* create a dic of letter and its morse code:\n",
    "eg:{'A':'.-', 'B':'-...', 'C':'-.-.', 'D':'-..', 'E':'.', 'F':'..-.', 'G':'--.','H':'....', }"
   ]
  },
  {
   "cell_type": "code",
   "execution_count": 17,
   "metadata": {},
   "outputs": [
    {
     "name": "stdout",
     "output_type": "stream",
     "text": [
      "Enter a string to covert it in morse code: sweden\n",
      "... .-- . -.. . -. \n",
      "Enter a morse code to convert it into normal code... .-- . -.. . -.\n",
      "SWEDEN\n"
     ]
    }
   ],
   "source": [
    "MORSE_CODE_DICT = { 'A':'.-', 'B':'-...',\n",
    "                    'C':'-.-.', 'D':'-..', 'E':'.',\n",
    "                    'F':'..-.', 'G':'--.', 'H':'....',\n",
    "                    'I':'..', 'J':'.---', 'K':'-.-',\n",
    "                    'L':'.-..', 'M':'--', 'N':'-.',\n",
    "                    'O':'---', 'P':'.--.', 'Q':'--.-',\n",
    "                    'R':'.-.', 'S':'...', 'T':'-',\n",
    "                    'U':'..-', 'V':'...-', 'W':'.--',\n",
    "                    'X':'-..-', 'Y':'-.--', 'Z':'--..',\n",
    "                    '1':'.----', '2':'..---', '3':'...--',\n",
    "                    '4':'....-', '5':'.....', '6':'-....',\n",
    "                    '7':'--...', '8':'---..', '9':'----.',\n",
    "                    '0':'-----', ', ':'--..--', '.':'.-.-.-',\n",
    "                    '?':'..--..', '/':'-..-.', '-':'-....-',\n",
    "                    '(':'-.--.', ')':'-.--.-'}\n",
    " \n",
    "    \n",
    "    \n",
    "def encrypt(string):\n",
    "    result=\"\"\n",
    "    for letter in string:\n",
    "        if letter != \" \":\n",
    "            result=result+MORSE_CODE_DICT[letter]+\" \"\n",
    "        else:\n",
    "            result=result+\" \"\n",
    "    return result\n",
    "\n",
    "def de_crypt(string1):\n",
    "    string1=string1+\" \"\n",
    "    result1=\"\"\n",
    "    citext=\"\"\n",
    "    for letter in string1:\n",
    "        if (letter != \" \"):\n",
    "            i = 0\n",
    "            citext=citext+letter\n",
    "        else:\n",
    "            i=i+1\n",
    "            if i == 2:\n",
    "                result1+=\" \"\n",
    "            else:\n",
    "                result1+=list(MORSE_CODE_DICT.keys())[list(MORSE_CODE_DICT.values()).index(citext)]\n",
    "                citext=\"\"\n",
    "    return result1\n",
    "\n",
    "\n",
    "string=input(\"Enter a string to covert it in morse code: \")\n",
    "result= encrypt(string.upper())\n",
    "print(result)\n",
    "\n",
    "\n",
    "string_new=input(\"Enter a morse code to convert it into normal code\")\n",
    "result_new=de_crypt(string_new)\n",
    "print(result_new)"
   ]
  },
  {
   "cell_type": "markdown",
   "metadata": {},
   "source": [
    "### 118.118:Write a program to calculate the square root of a number by using the Babylonian method.(https://en.wikipedia.org/wiki/Methods_of_computing_square_roots)"
   ]
  },
  {
   "cell_type": "code",
   "execution_count": 19,
   "metadata": {},
   "outputs": [
    {
     "name": "stdout",
     "output_type": "stream",
     "text": [
      "Enter  a value to calculate the square root of the number by babylonian method : 18\n"
     ]
    },
    {
     "data": {
      "text/plain": [
       "4.242640687119286"
      ]
     },
     "execution_count": 19,
     "metadata": {},
     "output_type": "execute_result"
    }
   ],
   "source": [
    "def babylonian(num):\n",
    "    if num==0:\n",
    "        return 0\n",
    "    else:\n",
    "        variable=num/2.0\n",
    "        variable_new=variable+1\n",
    "        while (variable != variable_new):\n",
    "            n=num/variable\n",
    "            variable_new=variable\n",
    "            variable=(variable+n)/2\n",
    "        return variable\n",
    "number=float(input(\"Enter  a value to calculate the square root of the number by babylonian method : \"))\n",
    "babylonian(number)"
   ]
  },
  {
   "cell_type": "markdown",
   "metadata": {},
   "source": [
    "### 119.119:Write a function which take a string , a substring to look for and number of time it occur in a string.calculates the position of the n-th occurence of a string sub in another string s. If sub doesn't occur in s, -1 shall be returned. eg:\n",
    "\n",
    "s = \"hello this a new call hello class\"\n",
    "\n",
    "print(find_nth_occurance(s,\"hello\", 2))"
   ]
  },
  {
   "cell_type": "code",
   "execution_count": 84,
   "metadata": {},
   "outputs": [
    {
     "name": "stdout",
     "output_type": "stream",
     "text": [
      "Position of nth(second) occurance 6\n"
     ]
    }
   ],
   "source": [
    "def find_nth_occurance(s,subs,n):\n",
    "    s=s.split()\n",
    "    try:\n",
    "        return([i for i in range(len(s)) if s[i]==subs][n-1])\n",
    "    except:\n",
    "        return -1\n",
    "s=\"hello this is a new call hello class\"\n",
    "print(\"Position of nth(second) occurance\", find_nth_occurance(s,\"hello\",2))"
   ]
  },
  {
   "cell_type": "markdown",
   "metadata": {},
   "source": [
    "### 120.write a recursive function for f(n) = 7 * n, i.e. the multiples of 7"
   ]
  },
  {
   "cell_type": "code",
   "execution_count": 41,
   "metadata": {
    "scrolled": true
   },
   "outputs": [
    {
     "name": "stdout",
     "output_type": "stream",
     "text": [
      "Enter the number : 5\n",
      "7\n",
      "14\n",
      "21\n",
      "28\n",
      "35\n"
     ]
    }
   ],
   "source": [
    "def recurcive(n):\n",
    "    if n==1:\n",
    "        return 7\n",
    "    else:\n",
    "        return recurcive(n-1)+7\n",
    "    \n",
    "number =int(input(\"Enter the number : \"))\n",
    "for i in range(1,number+1):\n",
    "    print(recurcive(i))"
   ]
  },
  {
   "cell_type": "markdown",
   "metadata": {},
   "source": [
    "### 121.:Write a function which implements the Pascal's triangle use recursion:(https://www.mathsisfun.com/pascals-triangle.html#:~:text=One%20of%20the%20most%20interesting,directly%20above%20it%20added%20together.)"
   ]
  },
  {
   "cell_type": "code",
   "execution_count": 87,
   "metadata": {},
   "outputs": [
    {
     "data": {
      "text/plain": [
       "[[1],\n",
       " [1, 1],\n",
       " [1, 2, 1],\n",
       " [1, 3, 3, 1],\n",
       " [1, 4, 6, 4, 1],\n",
       " [1, 5, 10, 10, 5, 1],\n",
       " [1, 6, 15, 20, 15, 6, 1],\n",
       " [1, 7, 21, 35, 35, 21, 7, 1],\n",
       " [1, 8, 28, 56, 70, 56, 28, 8, 1]]"
      ]
     },
     "execution_count": 87,
     "metadata": {},
     "output_type": "execute_result"
    }
   ],
   "source": [
    "def pascal_triangle(n):\n",
    "    if n<=0:\n",
    "        raise ValueError(\"please enter value greater than 0\")\n",
    "    def triangle_rec(n):\n",
    "        row=0\n",
    "        l=[1,1]\n",
    "        if n<=2:\n",
    "            return(l[:n])\n",
    "        else:\n",
    "            while row!=n:\n",
    "                next_row=[1]+[l[i]+l[i+1] for i in range(0,len(l)-1)]+[1]\n",
    "                row=len(next_row)\n",
    "                l=triangle_rec(n-1)\n",
    "            return(next_row)\n",
    "    lines=[triangle_rec(i) for i in range(1,n)]\n",
    "    return(lines)\n",
    "pascal_triangle(10)"
   ]
  },
  {
   "cell_type": "markdown",
   "metadata": {},
   "source": [
    "### 122.Write a recursive program to calculate the Fibonacci numbers, using Pascal's triangle."
   ]
  },
  {
   "cell_type": "code",
   "execution_count": 89,
   "metadata": {},
   "outputs": [
    {
     "data": {
      "text/plain": [
       "[0, 1, 1, 2, 3, 5, 8, 13]"
      ]
     },
     "execution_count": 89,
     "metadata": {},
     "output_type": "execute_result"
    }
   ],
   "source": [
    "def fibo_all_pascal(n):\n",
    "    def fibonacci_used_pascal(n):\n",
    "        if n in [0,1]:\n",
    "            return n\n",
    "        else:\n",
    "            p=pascal_triangle(n+1)\n",
    "            fibo=sum([p[-i][-i] for i in range (1,len(p)-int((n-2)/2))])\n",
    "        return fibo\n",
    "    return([fibonacci_used_pascal(x) for x in range(n)])\n",
    "fibo_all_pascal(8)"
   ]
  },
  {
   "cell_type": "markdown",
   "metadata": {},
   "source": [
    "### 123.write a fuction to check if the given data type are iterable or not ?"
   ]
  },
  {
   "cell_type": "code",
   "execution_count": 90,
   "metadata": {},
   "outputs": [
    {
     "name": "stdout",
     "output_type": "stream",
     "text": [
      "Is a list iterable? Iterable\n",
      "Is a Boolean iterable? Not Iterable\n"
     ]
    }
   ],
   "source": [
    "def is_iterable(x):\n",
    "    try:\n",
    "        iter(x)\n",
    "        return \"Iterable\"\n",
    "    except:\n",
    "        return \"Not Iterable\"\n",
    "print(\"Is a list iterable?\", is_iterable([1,2,3,4,5]))\n",
    "print(\"Is a Boolean iterable?\", is_iterable(False))"
   ]
  },
  {
   "cell_type": "markdown",
   "metadata": {},
   "source": [
    "### 124.Write a generator which computes the running average\n",
    " eg:[1,2,3,4,5,6]\n",
    "     1-->1\n",
    "     2---->1.50\n",
    "     3----->2\n",
    "     4----->2.50\n",
    "     5---->3\n",
    "     6---->3.50"
   ]
  },
  {
   "cell_type": "code",
   "execution_count": 93,
   "metadata": {},
   "outputs": [
    {
     "name": "stdout",
     "output_type": "stream",
     "text": [
      "1.0\n",
      "1.5\n",
      "2.6666666666666665\n",
      "2.5\n",
      "2.2\n"
     ]
    }
   ],
   "source": [
    "li=[1,2,5,2,1,8]\n",
    "def avg_gen(n):\n",
    "    v=1\n",
    "    while v<len(n):\n",
    "        yield sum(n[:v])/v\n",
    "        v+=1\n",
    "avg=avg_gen(li)\n",
    "for i in avg_gen(li):\n",
    "    print(i)"
   ]
  },
  {
   "cell_type": "markdown",
   "metadata": {},
   "source": [
    "### 125.Write a generator which behaves like range but accepts float values."
   ]
  },
  {
   "cell_type": "code",
   "execution_count": 102,
   "metadata": {},
   "outputs": [
    {
     "data": {
      "text/plain": [
       "[0, 0.5, 1.0, 1.5, 2.0, 2.5, 3.0, 3.5, 4.0, 4.5, 5.0, 5.5, 6.0, 6.5, 7.0, 7.5]"
      ]
     },
     "execution_count": 102,
     "metadata": {},
     "output_type": "execute_result"
    }
   ],
   "source": [
    "def range_gen(start,stop,step):\n",
    "    v=start\n",
    "    while v<stop:\n",
    "        yield v\n",
    "        v+=step\n",
    "list(range_gen(0,7.6,0.5))"
   ]
  },
  {
   "cell_type": "markdown",
   "metadata": {},
   "source": [
    "### 126.Write a generator which returns a zero or a one in every iteration.\n",
    "\n",
    "* The probability p for returning a 1 is defined in a     variable p.\n",
    "* default value of probability=0.5. In other words,1 and 0 will be returned with the same probability."
   ]
  },
  {
   "cell_type": "code",
   "execution_count": 105,
   "metadata": {},
   "outputs": [
    {
     "ename": "NameError",
     "evalue": "name 'choices' is not defined",
     "output_type": "error",
     "traceback": [
      "\u001b[1;31m---------------------------------------------------------------------------\u001b[0m",
      "\u001b[1;31mNameError\u001b[0m                                 Traceback (most recent call last)",
      "\u001b[1;32m<ipython-input-105-f074917fcb5b>\u001b[0m in \u001b[0;36m<module>\u001b[1;34m\u001b[0m\n\u001b[0;32m      6\u001b[0m \u001b[1;33m\u001b[0m\u001b[0m\n\u001b[0;32m      7\u001b[0m \u001b[1;33m\u001b[0m\u001b[0m\n\u001b[1;32m----> 8\u001b[1;33m \u001b[0mlist\u001b[0m\u001b[1;33m(\u001b[0m\u001b[0mrandom_01gen\u001b[0m\u001b[1;33m(\u001b[0m\u001b[1;36m0.5\u001b[0m\u001b[1;33m,\u001b[0m \u001b[1;36m20\u001b[0m\u001b[1;33m)\u001b[0m\u001b[1;33m)\u001b[0m\u001b[1;33m\u001b[0m\u001b[1;33m\u001b[0m\u001b[0m\n\u001b[0m\u001b[0;32m      9\u001b[0m \u001b[1;31m# for i in a:\u001b[0m\u001b[1;33m\u001b[0m\u001b[1;33m\u001b[0m\u001b[1;33m\u001b[0m\u001b[0m\n\u001b[0;32m     10\u001b[0m \u001b[1;31m# print(i)\u001b[0m\u001b[1;33m\u001b[0m\u001b[1;33m\u001b[0m\u001b[1;33m\u001b[0m\u001b[0m\n",
      "\u001b[1;32m<ipython-input-105-f074917fcb5b>\u001b[0m in \u001b[0;36mrandom_01gen\u001b[1;34m(p, n)\u001b[0m\n\u001b[0;32m      2\u001b[0m     \u001b[0mnum\u001b[0m \u001b[1;33m=\u001b[0m \u001b[1;36m0\u001b[0m\u001b[1;33m\u001b[0m\u001b[1;33m\u001b[0m\u001b[0m\n\u001b[0;32m      3\u001b[0m     \u001b[1;32mwhile\u001b[0m \u001b[0mnum\u001b[0m \u001b[1;33m<\u001b[0m \u001b[0mn\u001b[0m\u001b[1;33m:\u001b[0m\u001b[1;33m\u001b[0m\u001b[1;33m\u001b[0m\u001b[0m\n\u001b[1;32m----> 4\u001b[1;33m         \u001b[1;32myield\u001b[0m \u001b[0mchoices\u001b[0m\u001b[1;33m(\u001b[0m\u001b[0mpopulation\u001b[0m\u001b[1;33m=\u001b[0m\u001b[1;33m[\u001b[0m\u001b[1;36m0\u001b[0m\u001b[1;33m,\u001b[0m \u001b[1;36m1\u001b[0m\u001b[1;33m]\u001b[0m\u001b[1;33m,\u001b[0m \u001b[0mweights\u001b[0m\u001b[1;33m=\u001b[0m\u001b[1;33m[\u001b[0m\u001b[0mp\u001b[0m\u001b[1;33m,\u001b[0m \u001b[1;36m1\u001b[0m\u001b[1;33m-\u001b[0m\u001b[0mp\u001b[0m\u001b[1;33m]\u001b[0m\u001b[1;33m,\u001b[0m \u001b[0mk\u001b[0m\u001b[1;33m=\u001b[0m\u001b[1;36m1\u001b[0m\u001b[1;33m)\u001b[0m\u001b[1;33m\u001b[0m\u001b[1;33m\u001b[0m\u001b[0m\n\u001b[0m\u001b[0;32m      5\u001b[0m         \u001b[0mnum\u001b[0m \u001b[1;33m+=\u001b[0m \u001b[1;36m1\u001b[0m\u001b[1;33m\u001b[0m\u001b[1;33m\u001b[0m\u001b[0m\n\u001b[0;32m      6\u001b[0m \u001b[1;33m\u001b[0m\u001b[0m\n",
      "\u001b[1;31mNameError\u001b[0m: name 'choices' is not defined"
     ]
    }
   ],
   "source": [
    "def random_01gen(p=0.5, n=10**9):\n",
    "    num = 0\n",
    "    while num < n:\n",
    "        yield choices(population=[0, 1], weights=[p, 1-p], k=1)\n",
    "        num += 1\n",
    "\n",
    "\n",
    "list(random_01gen(0.5, 20))\n",
    "# for i in a:\n",
    "# print(i)"
   ]
  },
  {
   "cell_type": "markdown",
   "metadata": {},
   "source": [
    "### 127.Write a generator cycle performing the same task.\n",
    "\n",
    "cycle('ABCD') --> A B C D A B C D A B C D ..."
   ]
  },
  {
   "cell_type": "code",
   "execution_count": null,
   "metadata": {},
   "outputs": [],
   "source": [
    "def cycle_v(string):\n",
    "    x=iter(string)\n",
    "    while True:\n",
    "        try:\n",
    "            yield next(x)\n",
    "        except:\n",
    "            x=iter(string)\n",
    "            continue\n",
    "res=cycle_v(\"ABCD\")\n",
    "print(next(res))\n"
   ]
  },
  {
   "cell_type": "markdown",
   "metadata": {},
   "source": [
    "### 128.128) create a list of list from the given detail below\n",
    "\n",
    "* id   product              Quantity     Price_per\n",
    "* 1020 iphone 12          4          1200\n",
    "* 2313 mac book pro       5          3200                \n",
    "* 1234 drone              3          900\n",
    "* 3212 tv                 8          500\n",
    "* 3213 book               3          20\n",
    "Write a Python program, which returns a list with 2-tuples. Each tuple consists of a the product name and the total price of product . The product should be increased by 10,- € if the value of the order is smaller than 100,00 €. Write a Python program using lambda and map."
   ]
  },
  {
   "cell_type": "code",
   "execution_count": 4,
   "metadata": {},
   "outputs": [
    {
     "ename": "TypeError",
     "evalue": "'>' not supported between instances of 'list' and 'int'",
     "output_type": "error",
     "traceback": [
      "\u001b[1;31m---------------------------------------------------------------------------\u001b[0m",
      "\u001b[1;31mTypeError\u001b[0m                                 Traceback (most recent call last)",
      "\u001b[1;32m<ipython-input-4-6bc164732f2e>\u001b[0m in \u001b[0;36m<module>\u001b[1;34m\u001b[0m\n\u001b[0;32m      6\u001b[0m \u001b[0mprice_det\u001b[0m\u001b[1;33m=\u001b[0m\u001b[1;32mlambda\u001b[0m \u001b[0mx\u001b[0m\u001b[1;33m,\u001b[0m\u001b[0my\u001b[0m\u001b[1;33m:\u001b[0m\u001b[0mx\u001b[0m\u001b[1;33m*\u001b[0m\u001b[0my\u001b[0m \u001b[1;32mif\u001b[0m \u001b[0mx\u001b[0m\u001b[1;33m*\u001b[0m\u001b[0my\u001b[0m\u001b[1;33m>\u001b[0m\u001b[1;36m10000\u001b[0m \u001b[1;32melse\u001b[0m \u001b[0mx\u001b[0m\u001b[1;33m*\u001b[0m\u001b[1;33m(\u001b[0m\u001b[0my\u001b[0m\u001b[1;33m+\u001b[0m\u001b[1;36m10\u001b[0m\u001b[1;33m)\u001b[0m\u001b[1;33m\u001b[0m\u001b[1;33m\u001b[0m\u001b[0m\n\u001b[0;32m      7\u001b[0m \u001b[0mret_x\u001b[0m\u001b[1;33m=\u001b[0m\u001b[1;32mlambda\u001b[0m \u001b[0mx\u001b[0m\u001b[1;33m:\u001b[0m\u001b[1;33m(\u001b[0m\u001b[0mx\u001b[0m\u001b[1;33m[\u001b[0m\u001b[1;36m1\u001b[0m\u001b[1;33m]\u001b[0m\u001b[1;33m,\u001b[0m\u001b[0mprice_det\u001b[0m\u001b[1;33m(\u001b[0m\u001b[0mx\u001b[0m\u001b[1;33m[\u001b[0m\u001b[1;36m2\u001b[0m\u001b[1;33m]\u001b[0m\u001b[1;33m,\u001b[0m\u001b[1;33m[\u001b[0m\u001b[1;36m3\u001b[0m\u001b[1;33m]\u001b[0m\u001b[1;33m)\u001b[0m\u001b[1;33m)\u001b[0m\u001b[1;33m\u001b[0m\u001b[1;33m\u001b[0m\u001b[0m\n\u001b[1;32m----> 8\u001b[1;33m \u001b[0mprint\u001b[0m\u001b[1;33m(\u001b[0m\u001b[1;34m\"The resulting total price per item : \"\u001b[0m\u001b[1;33m,\u001b[0m\u001b[0mlist\u001b[0m\u001b[1;33m(\u001b[0m\u001b[0mmap\u001b[0m\u001b[1;33m(\u001b[0m\u001b[0mret_x\u001b[0m\u001b[1;33m,\u001b[0m\u001b[0mprds\u001b[0m\u001b[1;33m)\u001b[0m\u001b[1;33m)\u001b[0m\u001b[1;33m)\u001b[0m\u001b[1;33m\u001b[0m\u001b[1;33m\u001b[0m\u001b[0m\n\u001b[0m",
      "\u001b[1;32m<ipython-input-4-6bc164732f2e>\u001b[0m in \u001b[0;36m<lambda>\u001b[1;34m(x)\u001b[0m\n\u001b[0;32m      5\u001b[0m       (3213,\"book\",3,20)]\n\u001b[0;32m      6\u001b[0m \u001b[0mprice_det\u001b[0m\u001b[1;33m=\u001b[0m\u001b[1;32mlambda\u001b[0m \u001b[0mx\u001b[0m\u001b[1;33m,\u001b[0m\u001b[0my\u001b[0m\u001b[1;33m:\u001b[0m\u001b[0mx\u001b[0m\u001b[1;33m*\u001b[0m\u001b[0my\u001b[0m \u001b[1;32mif\u001b[0m \u001b[0mx\u001b[0m\u001b[1;33m*\u001b[0m\u001b[0my\u001b[0m\u001b[1;33m>\u001b[0m\u001b[1;36m10000\u001b[0m \u001b[1;32melse\u001b[0m \u001b[0mx\u001b[0m\u001b[1;33m*\u001b[0m\u001b[1;33m(\u001b[0m\u001b[0my\u001b[0m\u001b[1;33m+\u001b[0m\u001b[1;36m10\u001b[0m\u001b[1;33m)\u001b[0m\u001b[1;33m\u001b[0m\u001b[1;33m\u001b[0m\u001b[0m\n\u001b[1;32m----> 7\u001b[1;33m \u001b[0mret_x\u001b[0m\u001b[1;33m=\u001b[0m\u001b[1;32mlambda\u001b[0m \u001b[0mx\u001b[0m\u001b[1;33m:\u001b[0m\u001b[1;33m(\u001b[0m\u001b[0mx\u001b[0m\u001b[1;33m[\u001b[0m\u001b[1;36m1\u001b[0m\u001b[1;33m]\u001b[0m\u001b[1;33m,\u001b[0m\u001b[0mprice_det\u001b[0m\u001b[1;33m(\u001b[0m\u001b[0mx\u001b[0m\u001b[1;33m[\u001b[0m\u001b[1;36m2\u001b[0m\u001b[1;33m]\u001b[0m\u001b[1;33m,\u001b[0m\u001b[1;33m[\u001b[0m\u001b[1;36m3\u001b[0m\u001b[1;33m]\u001b[0m\u001b[1;33m)\u001b[0m\u001b[1;33m)\u001b[0m\u001b[1;33m\u001b[0m\u001b[1;33m\u001b[0m\u001b[0m\n\u001b[0m\u001b[0;32m      8\u001b[0m \u001b[0mprint\u001b[0m\u001b[1;33m(\u001b[0m\u001b[1;34m\"The resulting total price per item : \"\u001b[0m\u001b[1;33m,\u001b[0m\u001b[0mlist\u001b[0m\u001b[1;33m(\u001b[0m\u001b[0mmap\u001b[0m\u001b[1;33m(\u001b[0m\u001b[0mret_x\u001b[0m\u001b[1;33m,\u001b[0m\u001b[0mprds\u001b[0m\u001b[1;33m)\u001b[0m\u001b[1;33m)\u001b[0m\u001b[1;33m)\u001b[0m\u001b[1;33m\u001b[0m\u001b[1;33m\u001b[0m\u001b[0m\n",
      "\u001b[1;32m<ipython-input-4-6bc164732f2e>\u001b[0m in \u001b[0;36m<lambda>\u001b[1;34m(x, y)\u001b[0m\n\u001b[0;32m      4\u001b[0m       \u001b[1;33m(\u001b[0m\u001b[1;36m3212\u001b[0m\u001b[1;33m,\u001b[0m\u001b[1;34m\"tv\"\u001b[0m\u001b[1;33m,\u001b[0m\u001b[1;36m8\u001b[0m\u001b[1;33m,\u001b[0m\u001b[1;36m500\u001b[0m\u001b[1;33m)\u001b[0m\u001b[1;33m,\u001b[0m\u001b[1;33m\u001b[0m\u001b[1;33m\u001b[0m\u001b[0m\n\u001b[0;32m      5\u001b[0m       (3213,\"book\",3,20)]\n\u001b[1;32m----> 6\u001b[1;33m \u001b[0mprice_det\u001b[0m\u001b[1;33m=\u001b[0m\u001b[1;32mlambda\u001b[0m \u001b[0mx\u001b[0m\u001b[1;33m,\u001b[0m\u001b[0my\u001b[0m\u001b[1;33m:\u001b[0m\u001b[0mx\u001b[0m\u001b[1;33m*\u001b[0m\u001b[0my\u001b[0m \u001b[1;32mif\u001b[0m \u001b[0mx\u001b[0m\u001b[1;33m*\u001b[0m\u001b[0my\u001b[0m\u001b[1;33m>\u001b[0m\u001b[1;36m10000\u001b[0m \u001b[1;32melse\u001b[0m \u001b[0mx\u001b[0m\u001b[1;33m*\u001b[0m\u001b[1;33m(\u001b[0m\u001b[0my\u001b[0m\u001b[1;33m+\u001b[0m\u001b[1;36m10\u001b[0m\u001b[1;33m)\u001b[0m\u001b[1;33m\u001b[0m\u001b[1;33m\u001b[0m\u001b[0m\n\u001b[0m\u001b[0;32m      7\u001b[0m \u001b[0mret_x\u001b[0m\u001b[1;33m=\u001b[0m\u001b[1;32mlambda\u001b[0m \u001b[0mx\u001b[0m\u001b[1;33m:\u001b[0m\u001b[1;33m(\u001b[0m\u001b[0mx\u001b[0m\u001b[1;33m[\u001b[0m\u001b[1;36m1\u001b[0m\u001b[1;33m]\u001b[0m\u001b[1;33m,\u001b[0m\u001b[0mprice_det\u001b[0m\u001b[1;33m(\u001b[0m\u001b[0mx\u001b[0m\u001b[1;33m[\u001b[0m\u001b[1;36m2\u001b[0m\u001b[1;33m]\u001b[0m\u001b[1;33m,\u001b[0m\u001b[1;33m[\u001b[0m\u001b[1;36m3\u001b[0m\u001b[1;33m]\u001b[0m\u001b[1;33m)\u001b[0m\u001b[1;33m)\u001b[0m\u001b[1;33m\u001b[0m\u001b[1;33m\u001b[0m\u001b[0m\n\u001b[0;32m      8\u001b[0m \u001b[0mprint\u001b[0m\u001b[1;33m(\u001b[0m\u001b[1;34m\"The resulting total price per item : \"\u001b[0m\u001b[1;33m,\u001b[0m\u001b[0mlist\u001b[0m\u001b[1;33m(\u001b[0m\u001b[0mmap\u001b[0m\u001b[1;33m(\u001b[0m\u001b[0mret_x\u001b[0m\u001b[1;33m,\u001b[0m\u001b[0mprds\u001b[0m\u001b[1;33m)\u001b[0m\u001b[1;33m)\u001b[0m\u001b[1;33m)\u001b[0m\u001b[1;33m\u001b[0m\u001b[1;33m\u001b[0m\u001b[0m\n",
      "\u001b[1;31mTypeError\u001b[0m: '>' not supported between instances of 'list' and 'int'"
     ]
    }
   ],
   "source": [
    "prds= [(1020,\"iphone 12\",4,1200),\n",
    "      (2313,\"mac book pro\",5,3200),\n",
    "       (1234,\"drone\",3,900),\n",
    "      (3212,\"tv\",8,500),\n",
    "      (3213,\"book\",3,20)]\n",
    "price_det=lambda x,y:x*y if x*y>10000 else x*(y+10)\n",
    "ret_x=lambda x:(x[1],price_det(x[2],[3]))\n",
    "print(\"The resulting total price per item : \",list(map(ret_x,prds)))\n"
   ]
  },
  {
   "cell_type": "markdown",
   "metadata": {},
   "source": [
    "### 129. Write a program which returns a list of two tuples with (order number, total amount of order)."
   ]
  },
  {
   "cell_type": "code",
   "execution_count": 6,
   "metadata": {},
   "outputs": [
    {
     "data": {
      "text/plain": [
       "[(1, 490),\n",
       " (2, 494.46000000000004),\n",
       " (3, 364.79999999999995),\n",
       " (4, 492.57),\n",
       " (5, 492.57),\n",
       " (6, 492.57)]"
      ]
     },
     "execution_count": 6,
     "metadata": {},
     "output_type": "execute_result"
    }
   ],
   "source": [
    "orders = [ [1, (\"5464\", 4, 10), (\"8274\",18,15), (\"9744\", 9, 20)], \n",
    "           [2, (\"5464\", 9, 9.99), (\"9744\", 9, 44.95)],\n",
    "           [3, (\"5464\", 9, 9.99), (\"88112\", 11, 24.99)],\n",
    "           [4, (\"8732\", 7, 11.99), (\"7733\",11,18.99), (\"88112\", 5, 39.95)],\n",
    "            [5, (\"8732\", 7, 11.99), (\"7733\",11,18.99), (\"8274\", 5, 39.95)],\n",
    "          [6, (\"8732\", 7, 11.99), (\"8274\",11,18.99), (\"9744\", 5, 39.95)] \n",
    "         ]\n",
    "mul=lambda x:(x[0],sum([x[i][1]*x[i][2] for i in range(1,len(x))]))\n",
    "list(map(mul,orders))"
   ]
  },
  {
   "cell_type": "markdown",
   "metadata": {},
   "source": [
    "### 130. write a nested function to calulate the temp from celcius to farhen"
   ]
  },
  {
   "cell_type": "code",
   "execution_count": 7,
   "metadata": {},
   "outputs": [
    {
     "data": {
      "text/plain": [
       "'122.0F'"
      ]
     },
     "execution_count": 7,
     "metadata": {},
     "output_type": "execute_result"
    }
   ],
   "source": [
    "def cel_to_far(temp):\n",
    "    temp=float(temp)\n",
    "    def calculate(temp):\n",
    "        return (temp*9/5 + 32)\n",
    "    return (\"\".join([str(calculate(temp)), \"F\"]))\n",
    "cel_to_far(50)"
   ]
  },
  {
   "cell_type": "markdown",
   "metadata": {},
   "source": [
    "### 131.Write a nested function so that it can work for polynomials of arbitrary degree:\n",
    "\n",
    "∑k=0nak⋅xk=an⋅xn+an−1⋅xn−1+…+a2⋅x2+a1⋅x+a0"
   ]
  },
  {
   "cell_type": "code",
   "execution_count": 9,
   "metadata": {},
   "outputs": [
    {
     "name": "stdout",
     "output_type": "stream",
     "text": [
      "x:  1 \n",
      "100+100*x: 200 \n",
      " 1+2*x^2 +4* x^3: 10\n",
      "x:  2 \n",
      "100+100*x: 300 \n",
      " 1+2*x^2 +4* x^3: 49\n",
      "x:  3 \n",
      "100+100*x: 400 \n",
      " 1+2*x^2 +4* x^3: 142\n"
     ]
    }
   ],
   "source": [
    "def poly_n_order(*args):\n",
    "    def poly(x):\n",
    "        n = len(args)\n",
    "        f_poly = args[0]\n",
    "        for i in range(1, len(args)):\n",
    "            f_poly += args[n-i]*x**(n-i)\n",
    "        return f_poly\n",
    "    return poly\n",
    "\n",
    "\n",
    "p1 = poly_n_order(100, 100)\n",
    "p2 = poly_n_order(1, 2, 3, 4)\n",
    "for x in range(1, 4):\n",
    "    print(\"x: \", x, \"\\n100+100*x:\", p1(x), \"\\n 1+2*x^2 +4* x^3:\", p2(x))"
   ]
  },
  {
   "cell_type": "markdown",
   "metadata": {},
   "source": [
    "### 132.write a decorator so that the argument passed is. positive integer for a function factorial that you have created before"
   ]
  },
  {
   "cell_type": "code",
   "execution_count": 10,
   "metadata": {},
   "outputs": [
    {
     "name": "stdout",
     "output_type": "stream",
     "text": [
      "Not a positive Integer, converted to5:\n",
      "120\n"
     ]
    }
   ],
   "source": [
    "def pos_factorial(function):\n",
    "    def wrapper(n):\n",
    "        if n <0:\n",
    "            print(f\"Not a positive Integer, converted to{abs(n)}:\")\n",
    "            n = abs(n)\n",
    "        return function(n)\n",
    "    return wrapper\n",
    "@pos_factorial\n",
    "def factorial(n):\n",
    "    it = 1\n",
    "    val = 1\n",
    "    while it !=(n+1):\n",
    "        val*=it\n",
    "        it+=1\n",
    "    return val\n",
    "print(factorial(-5))"
   ]
  },
  {
   "cell_type": "markdown",
   "metadata": {},
   "source": [
    "### 133.write a decorator to count the number of times a function has beeen called . eg define a add function and loop it for 10 time and check"
   ]
  },
  {
   "cell_type": "code",
   "execution_count": 11,
   "metadata": {},
   "outputs": [
    {
     "name": "stdout",
     "output_type": "stream",
     "text": [
      "1\n"
     ]
    },
    {
     "data": {
      "text/plain": [
       "'hello, hi'"
      ]
     },
     "execution_count": 11,
     "metadata": {},
     "output_type": "execute_result"
    }
   ],
   "source": [
    "def countf(function):\n",
    "    global count\n",
    "    count = 0\n",
    "    def wrapper(name):\n",
    "        global count\n",
    "        count+=1\n",
    "        print(count)\n",
    "        return function(name)\n",
    "    return wrapper\n",
    "@countf\n",
    "def hello(name):\n",
    "    return(f\"hello, {name}\")\n",
    "hello('hi')"
   ]
  },
  {
   "cell_type": "code",
   "execution_count": null,
   "metadata": {},
   "outputs": [],
   "source": []
  }
 ],
 "metadata": {
  "kernelspec": {
   "display_name": "Python 3",
   "language": "python",
   "name": "python3"
  },
  "language_info": {
   "codemirror_mode": {
    "name": "ipython",
    "version": 3
   },
   "file_extension": ".py",
   "mimetype": "text/x-python",
   "name": "python",
   "nbconvert_exporter": "python",
   "pygments_lexer": "ipython3",
   "version": "3.8.5"
  },
  "varInspector": {
   "cols": {
    "lenName": 16,
    "lenType": 16,
    "lenVar": 40
   },
   "kernels_config": {
    "python": {
     "delete_cmd_postfix": "",
     "delete_cmd_prefix": "del ",
     "library": "var_list.py",
     "varRefreshCmd": "print(var_dic_list())"
    },
    "r": {
     "delete_cmd_postfix": ") ",
     "delete_cmd_prefix": "rm(",
     "library": "var_list.r",
     "varRefreshCmd": "cat(var_dic_list()) "
    }
   },
   "types_to_exclude": [
    "module",
    "function",
    "builtin_function_or_method",
    "instance",
    "_Feature"
   ],
   "window_display": false
  }
 },
 "nbformat": 4,
 "nbformat_minor": 4
}
